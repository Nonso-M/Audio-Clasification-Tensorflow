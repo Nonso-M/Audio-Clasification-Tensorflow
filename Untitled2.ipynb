{
  "nbformat": 4,
  "nbformat_minor": 0,
  "metadata": {
    "colab": {
      "name": "Untitled2.ipynb",
      "provenance": [],
      "mount_file_id": "1CDwATh4WaxxpszwC5c634sWBEzEjda2v",
      "authorship_tag": "ABX9TyPtcAg3UNfcSVLcLJKAtZKq",
      "include_colab_link": true
    },
    "kernelspec": {
      "name": "python3",
      "display_name": "Python 3"
    },
    "language_info": {
      "name": "python"
    }
  },
  "cells": [
    {
      "cell_type": "markdown",
      "metadata": {
        "id": "view-in-github",
        "colab_type": "text"
      },
      "source": [
        "<a href=\"https://colab.research.google.com/github/Nonso-M/Audio-Clasification-Tensorflow/blob/main/Untitled2.ipynb\" target=\"_parent\"><img src=\"https://colab.research.google.com/assets/colab-badge.svg\" alt=\"Open In Colab\"/></a>"
      ]
    },
    {
      "cell_type": "code",
      "execution_count": 1,
      "metadata": {
        "colab": {
          "base_uri": "https://localhost:8080/"
        },
        "id": "pH4buO6O9pzX",
        "outputId": "1bdb366f-7431-4d64-b738-912a67a3c2f2"
      },
      "outputs": [
        {
          "output_type": "stream",
          "name": "stdout",
          "text": [
            "Requirement already satisfied: kaggle in /usr/local/lib/python3.7/dist-packages (1.5.12)\n",
            "Requirement already satisfied: certifi in /usr/local/lib/python3.7/dist-packages (from kaggle) (2021.10.8)\n",
            "Requirement already satisfied: python-dateutil in /usr/local/lib/python3.7/dist-packages (from kaggle) (2.8.2)\n",
            "Requirement already satisfied: requests in /usr/local/lib/python3.7/dist-packages (from kaggle) (2.23.0)\n",
            "Requirement already satisfied: tqdm in /usr/local/lib/python3.7/dist-packages (from kaggle) (4.64.0)\n",
            "Requirement already satisfied: urllib3 in /usr/local/lib/python3.7/dist-packages (from kaggle) (1.24.3)\n",
            "Requirement already satisfied: six>=1.10 in /usr/local/lib/python3.7/dist-packages (from kaggle) (1.15.0)\n",
            "Requirement already satisfied: python-slugify in /usr/local/lib/python3.7/dist-packages (from kaggle) (6.1.1)\n",
            "Requirement already satisfied: text-unidecode>=1.3 in /usr/local/lib/python3.7/dist-packages (from python-slugify->kaggle) (1.3)\n",
            "Requirement already satisfied: chardet<4,>=3.0.2 in /usr/local/lib/python3.7/dist-packages (from requests->kaggle) (3.0.4)\n",
            "Requirement already satisfied: idna<3,>=2.5 in /usr/local/lib/python3.7/dist-packages (from requests->kaggle) (2.10)\n"
          ]
        }
      ],
      "source": [
        "! pip install kaggle"
      ]
    },
    {
      "cell_type": "code",
      "source": [
        "! mkdir ~/.kaggle"
      ],
      "metadata": {
        "id": "IwgSeCOpNqqf"
      },
      "execution_count": 2,
      "outputs": []
    },
    {
      "cell_type": "code",
      "source": [
        "! cp kaggle.json ~/.kaggle/"
      ],
      "metadata": {
        "id": "8VPgZFnZNqsv"
      },
      "execution_count": 3,
      "outputs": []
    },
    {
      "cell_type": "code",
      "source": [
        "! chmod 600 ~/.kaggle/kaggle.json"
      ],
      "metadata": {
        "id": "rt8DKW5PNqvH"
      },
      "execution_count": 4,
      "outputs": []
    },
    {
      "cell_type": "code",
      "source": [
        "!kaggle datasets download kenjee/z-by-hp-unlocked-challenge-3-signal-processing"
      ],
      "metadata": {
        "colab": {
          "base_uri": "https://localhost:8080/"
        },
        "id": "pfi5bnHVNqx4",
        "outputId": "4e11d38c-47a3-49fc-9875-62754483c649"
      },
      "execution_count": 5,
      "outputs": [
        {
          "output_type": "stream",
          "name": "stdout",
          "text": [
            "Downloading z-by-hp-unlocked-challenge-3-signal-processing.zip to /content\n",
            " 98% 591M/604M [00:04<00:00, 153MB/s]\n",
            "100% 604M/604M [00:04<00:00, 145MB/s]\n"
          ]
        }
      ]
    },
    {
      "cell_type": "code",
      "source": [
        "!unzip /content/z-by-hp-unlocked-challenge-3-signal-processing.zip"
      ],
      "metadata": {
        "colab": {
          "base_uri": "https://localhost:8080/"
        },
        "id": "nlZK2jBuNq0b",
        "outputId": "136638bb-7f23-44bb-9998-0569a422cb11"
      },
      "execution_count": 6,
      "outputs": [
        {
          "output_type": "stream",
          "name": "stdout",
          "text": [
            "Archive:  /content/z-by-hp-unlocked-challenge-3-signal-processing.zip\n",
            "  inflating: Forest Recordings/recording_00.mp3  \n",
            "  inflating: Forest Recordings/recording_01.mp3  \n",
            "  inflating: Forest Recordings/recording_02.mp3  \n",
            "  inflating: Forest Recordings/recording_03.mp3  \n",
            "  inflating: Forest Recordings/recording_04.mp3  \n",
            "  inflating: Forest Recordings/recording_05.mp3  \n",
            "  inflating: Forest Recordings/recording_06.mp3  \n",
            "  inflating: Forest Recordings/recording_07.mp3  \n",
            "  inflating: Forest Recordings/recording_08.mp3  \n",
            "  inflating: Forest Recordings/recording_09.mp3  \n",
            "  inflating: Forest Recordings/recording_10.mp3  \n",
            "  inflating: Forest Recordings/recording_11.mp3  \n",
            "  inflating: Forest Recordings/recording_12.mp3  \n",
            "  inflating: Forest Recordings/recording_13.mp3  \n",
            "  inflating: Forest Recordings/recording_14.mp3  \n",
            "  inflating: Forest Recordings/recording_15.mp3  \n",
            "  inflating: Forest Recordings/recording_16.mp3  \n",
            "  inflating: Forest Recordings/recording_17.mp3  \n",
            "  inflating: Forest Recordings/recording_18.mp3  \n",
            "  inflating: Forest Recordings/recording_19.mp3  \n",
            "  inflating: Forest Recordings/recording_20.mp3  \n",
            "  inflating: Forest Recordings/recording_21.mp3  \n",
            "  inflating: Forest Recordings/recording_22.mp3  \n",
            "  inflating: Forest Recordings/recording_23.mp3  \n",
            "  inflating: Forest Recordings/recording_24.mp3  \n",
            "  inflating: Forest Recordings/recording_25.mp3  \n",
            "  inflating: Forest Recordings/recording_26.mp3  \n",
            "  inflating: Forest Recordings/recording_27.mp3  \n",
            "  inflating: Forest Recordings/recording_28.mp3  \n",
            "  inflating: Forest Recordings/recording_29.mp3  \n",
            "  inflating: Forest Recordings/recording_30.mp3  \n",
            "  inflating: Forest Recordings/recording_31.mp3  \n",
            "  inflating: Forest Recordings/recording_32.mp3  \n",
            "  inflating: Forest Recordings/recording_33.mp3  \n",
            "  inflating: Forest Recordings/recording_34.mp3  \n",
            "  inflating: Forest Recordings/recording_35.mp3  \n",
            "  inflating: Forest Recordings/recording_36.mp3  \n",
            "  inflating: Forest Recordings/recording_37.mp3  \n",
            "  inflating: Forest Recordings/recording_38.mp3  \n",
            "  inflating: Forest Recordings/recording_39.mp3  \n",
            "  inflating: Forest Recordings/recording_40.mp3  \n",
            "  inflating: Forest Recordings/recording_41.mp3  \n",
            "  inflating: Forest Recordings/recording_42.mp3  \n",
            "  inflating: Forest Recordings/recording_43.mp3  \n",
            "  inflating: Forest Recordings/recording_44.mp3  \n",
            "  inflating: Forest Recordings/recording_45.mp3  \n",
            "  inflating: Forest Recordings/recording_46.mp3  \n",
            "  inflating: Forest Recordings/recording_47.mp3  \n",
            "  inflating: Forest Recordings/recording_48.mp3  \n",
            "  inflating: Forest Recordings/recording_49.mp3  \n",
            "  inflating: Forest Recordings/recording_50.mp3  \n",
            "  inflating: Forest Recordings/recording_51.mp3  \n",
            "  inflating: Forest Recordings/recording_52.mp3  \n",
            "  inflating: Forest Recordings/recording_53.mp3  \n",
            "  inflating: Forest Recordings/recording_54.mp3  \n",
            "  inflating: Forest Recordings/recording_55.mp3  \n",
            "  inflating: Forest Recordings/recording_56.mp3  \n",
            "  inflating: Forest Recordings/recording_57.mp3  \n",
            "  inflating: Forest Recordings/recording_58.mp3  \n",
            "  inflating: Forest Recordings/recording_59.mp3  \n",
            "  inflating: Forest Recordings/recording_60.mp3  \n",
            "  inflating: Forest Recordings/recording_61.mp3  \n",
            "  inflating: Forest Recordings/recording_62.mp3  \n",
            "  inflating: Forest Recordings/recording_63.mp3  \n",
            "  inflating: Forest Recordings/recording_64.mp3  \n",
            "  inflating: Forest Recordings/recording_65.mp3  \n",
            "  inflating: Forest Recordings/recording_66.mp3  \n",
            "  inflating: Forest Recordings/recording_67.mp3  \n",
            "  inflating: Forest Recordings/recording_68.mp3  \n",
            "  inflating: Forest Recordings/recording_69.mp3  \n",
            "  inflating: Forest Recordings/recording_70.mp3  \n",
            "  inflating: Forest Recordings/recording_71.mp3  \n",
            "  inflating: Forest Recordings/recording_72.mp3  \n",
            "  inflating: Forest Recordings/recording_73.mp3  \n",
            "  inflating: Forest Recordings/recording_74.mp3  \n",
            "  inflating: Forest Recordings/recording_75.mp3  \n",
            "  inflating: Forest Recordings/recording_76.mp3  \n",
            "  inflating: Forest Recordings/recording_77.mp3  \n",
            "  inflating: Forest Recordings/recording_78.mp3  \n",
            "  inflating: Forest Recordings/recording_79.mp3  \n",
            "  inflating: Forest Recordings/recording_80.mp3  \n",
            "  inflating: Forest Recordings/recording_81.mp3  \n",
            "  inflating: Forest Recordings/recording_82.mp3  \n",
            "  inflating: Forest Recordings/recording_83.mp3  \n",
            "  inflating: Forest Recordings/recording_84.mp3  \n",
            "  inflating: Forest Recordings/recording_85.mp3  \n",
            "  inflating: Forest Recordings/recording_86.mp3  \n",
            "  inflating: Forest Recordings/recording_87.mp3  \n",
            "  inflating: Forest Recordings/recording_88.mp3  \n",
            "  inflating: Forest Recordings/recording_89.mp3  \n",
            "  inflating: Forest Recordings/recording_90.mp3  \n",
            "  inflating: Forest Recordings/recording_91.mp3  \n",
            "  inflating: Forest Recordings/recording_92.mp3  \n",
            "  inflating: Forest Recordings/recording_93.mp3  \n",
            "  inflating: Forest Recordings/recording_94.mp3  \n",
            "  inflating: Forest Recordings/recording_95.mp3  \n",
            "  inflating: Forest Recordings/recording_96.mp3  \n",
            "  inflating: Forest Recordings/recording_97.mp3  \n",
            "  inflating: Forest Recordings/recording_98.mp3  \n",
            "  inflating: Forest Recordings/recording_99.mp3  \n",
            "  inflating: Parsed_Capuchinbird_Clips/XC114131-0.wav  \n",
            "  inflating: Parsed_Capuchinbird_Clips/XC114131-1.wav  \n",
            "  inflating: Parsed_Capuchinbird_Clips/XC114131-2.wav  \n",
            "  inflating: Parsed_Capuchinbird_Clips/XC114131-3.wav  \n",
            "  inflating: Parsed_Capuchinbird_Clips/XC114131-4.wav  \n",
            "  inflating: Parsed_Capuchinbird_Clips/XC114132-0.wav  \n",
            "  inflating: Parsed_Capuchinbird_Clips/XC114132-1.wav  \n",
            "  inflating: Parsed_Capuchinbird_Clips/XC114132-2.wav  \n",
            "  inflating: Parsed_Capuchinbird_Clips/XC114132-3.wav  \n",
            "  inflating: Parsed_Capuchinbird_Clips/XC114132-4.wav  \n",
            "  inflating: Parsed_Capuchinbird_Clips/XC114132-5.wav  \n",
            "  inflating: Parsed_Capuchinbird_Clips/XC114132-6.wav  \n",
            "  inflating: Parsed_Capuchinbird_Clips/XC119294-0.wav  \n",
            "  inflating: Parsed_Capuchinbird_Clips/XC16803-0.wav  \n",
            "  inflating: Parsed_Capuchinbird_Clips/XC16803-1.wav  \n",
            "  inflating: Parsed_Capuchinbird_Clips/XC16803-2.wav  \n",
            "  inflating: Parsed_Capuchinbird_Clips/XC16804-0.wav  \n",
            "  inflating: Parsed_Capuchinbird_Clips/XC16804-1.wav  \n",
            "  inflating: Parsed_Capuchinbird_Clips/XC168899-0.wav  \n",
            "  inflating: Parsed_Capuchinbird_Clips/XC178167-0.wav  \n",
            "  inflating: Parsed_Capuchinbird_Clips/XC178167-1.wav  \n",
            "  inflating: Parsed_Capuchinbird_Clips/XC178167-2.wav  \n",
            "  inflating: Parsed_Capuchinbird_Clips/XC178167-3.wav  \n",
            "  inflating: Parsed_Capuchinbird_Clips/XC178168-0.wav  \n",
            "  inflating: Parsed_Capuchinbird_Clips/XC178168-1.wav  \n",
            "  inflating: Parsed_Capuchinbird_Clips/XC178168-2.wav  \n",
            "  inflating: Parsed_Capuchinbird_Clips/XC178168-3.wav  \n",
            "  inflating: Parsed_Capuchinbird_Clips/XC178168-4.wav  \n",
            "  inflating: Parsed_Capuchinbird_Clips/XC178168-5.wav  \n",
            "  inflating: Parsed_Capuchinbird_Clips/XC178168-6.wav  \n",
            "  inflating: Parsed_Capuchinbird_Clips/XC178168-7.wav  \n",
            "  inflating: Parsed_Capuchinbird_Clips/XC201990-0.wav  \n",
            "  inflating: Parsed_Capuchinbird_Clips/XC201990-1.wav  \n",
            "  inflating: Parsed_Capuchinbird_Clips/XC201990-2.wav  \n",
            "  inflating: Parsed_Capuchinbird_Clips/XC201990-3.wav  \n",
            "  inflating: Parsed_Capuchinbird_Clips/XC201990-4.wav  \n",
            "  inflating: Parsed_Capuchinbird_Clips/XC201990-5.wav  \n",
            "  inflating: Parsed_Capuchinbird_Clips/XC216010-0.wav  \n",
            "  inflating: Parsed_Capuchinbird_Clips/XC216010-1.wav  \n",
            "  inflating: Parsed_Capuchinbird_Clips/XC216010-2.wav  \n",
            "  inflating: Parsed_Capuchinbird_Clips/XC216010-3.wav  \n",
            "  inflating: Parsed_Capuchinbird_Clips/XC216010-4.wav  \n",
            "  inflating: Parsed_Capuchinbird_Clips/XC216010-5.wav  \n",
            "  inflating: Parsed_Capuchinbird_Clips/XC216010-6.wav  \n",
            "  inflating: Parsed_Capuchinbird_Clips/XC216010-7.wav  \n",
            "  inflating: Parsed_Capuchinbird_Clips/XC216012-0.wav  \n",
            "  inflating: Parsed_Capuchinbird_Clips/XC216012-1.wav  \n",
            "  inflating: Parsed_Capuchinbird_Clips/XC216012-10.wav  \n",
            "  inflating: Parsed_Capuchinbird_Clips/XC216012-11.wav  \n",
            "  inflating: Parsed_Capuchinbird_Clips/XC216012-12.wav  \n",
            "  inflating: Parsed_Capuchinbird_Clips/XC216012-13.wav  \n",
            "  inflating: Parsed_Capuchinbird_Clips/XC216012-14.wav  \n",
            "  inflating: Parsed_Capuchinbird_Clips/XC216012-15.wav  \n",
            "  inflating: Parsed_Capuchinbird_Clips/XC216012-16.wav  \n",
            "  inflating: Parsed_Capuchinbird_Clips/XC216012-17.wav  \n",
            "  inflating: Parsed_Capuchinbird_Clips/XC216012-18.wav  \n",
            "  inflating: Parsed_Capuchinbird_Clips/XC216012-19.wav  \n",
            "  inflating: Parsed_Capuchinbird_Clips/XC216012-2.wav  \n",
            "  inflating: Parsed_Capuchinbird_Clips/XC216012-20.wav  \n",
            "  inflating: Parsed_Capuchinbird_Clips/XC216012-3.wav  \n",
            "  inflating: Parsed_Capuchinbird_Clips/XC216012-4.wav  \n",
            "  inflating: Parsed_Capuchinbird_Clips/XC216012-5.wav  \n",
            "  inflating: Parsed_Capuchinbird_Clips/XC216012-6.wav  \n",
            "  inflating: Parsed_Capuchinbird_Clips/XC216012-7.wav  \n",
            "  inflating: Parsed_Capuchinbird_Clips/XC216012-8.wav  \n",
            "  inflating: Parsed_Capuchinbird_Clips/XC216012-9.wav  \n",
            "  inflating: Parsed_Capuchinbird_Clips/XC22397-0.wav  \n",
            "  inflating: Parsed_Capuchinbird_Clips/XC22397-1.wav  \n",
            "  inflating: Parsed_Capuchinbird_Clips/XC22397-2.wav  \n",
            "  inflating: Parsed_Capuchinbird_Clips/XC22397-3.wav  \n",
            "  inflating: Parsed_Capuchinbird_Clips/XC22397-4.wav  \n",
            "  inflating: Parsed_Capuchinbird_Clips/XC22397-5.wav  \n",
            "  inflating: Parsed_Capuchinbird_Clips/XC22397-6.wav  \n",
            "  inflating: Parsed_Capuchinbird_Clips/XC22397-7.wav  \n",
            "  inflating: Parsed_Capuchinbird_Clips/XC227468-0.wav  \n",
            "  inflating: Parsed_Capuchinbird_Clips/XC227468-1.wav  \n",
            "  inflating: Parsed_Capuchinbird_Clips/XC227468-2.wav  \n",
            "  inflating: Parsed_Capuchinbird_Clips/XC227468-3.wav  \n",
            "  inflating: Parsed_Capuchinbird_Clips/XC227468-4.wav  \n",
            "  inflating: Parsed_Capuchinbird_Clips/XC227468-5.wav  \n",
            "  inflating: Parsed_Capuchinbird_Clips/XC227469-0.wav  \n",
            "  inflating: Parsed_Capuchinbird_Clips/XC227469-1.wav  \n",
            "  inflating: Parsed_Capuchinbird_Clips/XC227469-2.wav  \n",
            "  inflating: Parsed_Capuchinbird_Clips/XC227469-3.wav  \n",
            "  inflating: Parsed_Capuchinbird_Clips/XC227469-4.wav  \n",
            "  inflating: Parsed_Capuchinbird_Clips/XC227471-0.wav  \n",
            "  inflating: Parsed_Capuchinbird_Clips/XC227471-1.wav  \n",
            "  inflating: Parsed_Capuchinbird_Clips/XC227471-2.wav  \n",
            "  inflating: Parsed_Capuchinbird_Clips/XC227471-3.wav  \n",
            "  inflating: Parsed_Capuchinbird_Clips/XC227471-4.wav  \n",
            "  inflating: Parsed_Capuchinbird_Clips/XC227471-5.wav  \n",
            "  inflating: Parsed_Capuchinbird_Clips/XC227471-6.wav  \n",
            "  inflating: Parsed_Capuchinbird_Clips/XC227471-7.wav  \n",
            "  inflating: Parsed_Capuchinbird_Clips/XC27881-0.wav  \n",
            "  inflating: Parsed_Capuchinbird_Clips/XC27881-1.wav  \n",
            "  inflating: Parsed_Capuchinbird_Clips/XC27881-2.wav  \n",
            "  inflating: Parsed_Capuchinbird_Clips/XC27881-3.wav  \n",
            "  inflating: Parsed_Capuchinbird_Clips/XC27882-0.wav  \n",
            "  inflating: Parsed_Capuchinbird_Clips/XC27882-1.wav  \n",
            "  inflating: Parsed_Capuchinbird_Clips/XC27882-2.wav  \n",
            "  inflating: Parsed_Capuchinbird_Clips/XC27882-3.wav  \n",
            "  inflating: Parsed_Capuchinbird_Clips/XC27882-4.wav  \n",
            "  inflating: Parsed_Capuchinbird_Clips/XC27882-5.wav  \n",
            "  inflating: Parsed_Capuchinbird_Clips/XC27882-6.wav  \n",
            "  inflating: Parsed_Capuchinbird_Clips/XC307385-0.wav  \n",
            "  inflating: Parsed_Capuchinbird_Clips/XC307385-1.wav  \n",
            "  inflating: Parsed_Capuchinbird_Clips/XC307385-2.wav  \n",
            "  inflating: Parsed_Capuchinbird_Clips/XC307385-3.wav  \n",
            "  inflating: Parsed_Capuchinbird_Clips/XC307385-4.wav  \n",
            "  inflating: Parsed_Capuchinbird_Clips/XC3776-0.wav  \n",
            "  inflating: Parsed_Capuchinbird_Clips/XC3776-1.wav  \n",
            "  inflating: Parsed_Capuchinbird_Clips/XC3776-2.wav  \n",
            "  inflating: Parsed_Capuchinbird_Clips/XC3776-3.wav  \n",
            "  inflating: Parsed_Capuchinbird_Clips/XC3776-4.wav  \n",
            "  inflating: Parsed_Capuchinbird_Clips/XC3776-5.wav  \n",
            "  inflating: Parsed_Capuchinbird_Clips/XC3776-6.wav  \n",
            "  inflating: Parsed_Capuchinbird_Clips/XC387509-0.wav  \n",
            "  inflating: Parsed_Capuchinbird_Clips/XC387509-1.wav  \n",
            "  inflating: Parsed_Capuchinbird_Clips/XC387509-2.wav  \n",
            "  inflating: Parsed_Capuchinbird_Clips/XC387509-3.wav  \n",
            "  inflating: Parsed_Capuchinbird_Clips/XC387509-4.wav  \n",
            "  inflating: Parsed_Capuchinbird_Clips/XC387509-5.wav  \n",
            "  inflating: Parsed_Capuchinbird_Clips/XC388470-0.wav  \n",
            "  inflating: Parsed_Capuchinbird_Clips/XC388470-1.wav  \n",
            "  inflating: Parsed_Capuchinbird_Clips/XC388470-2.wav  \n",
            "  inflating: Parsed_Capuchinbird_Clips/XC388470-3.wav  \n",
            "  inflating: Parsed_Capuchinbird_Clips/XC388470-4.wav  \n",
            "  inflating: Parsed_Capuchinbird_Clips/XC388470-5.wav  \n",
            "  inflating: Parsed_Capuchinbird_Clips/XC388470-6.wav  \n",
            "  inflating: Parsed_Capuchinbird_Clips/XC395129-0.wav  \n",
            "  inflating: Parsed_Capuchinbird_Clips/XC395129-1.wav  \n",
            "  inflating: Parsed_Capuchinbird_Clips/XC395129-2.wav  \n",
            "  inflating: Parsed_Capuchinbird_Clips/XC395129-3.wav  \n",
            "  inflating: Parsed_Capuchinbird_Clips/XC395129-4.wav  \n",
            "  inflating: Parsed_Capuchinbird_Clips/XC395129-5.wav  \n",
            "  inflating: Parsed_Capuchinbird_Clips/XC395129-6.wav  \n",
            "  inflating: Parsed_Capuchinbird_Clips/XC401294-0.wav  \n",
            "  inflating: Parsed_Capuchinbird_Clips/XC40355-0.wav  \n",
            "  inflating: Parsed_Capuchinbird_Clips/XC433953-0.wav  \n",
            "  inflating: Parsed_Capuchinbird_Clips/XC433953-1.wav  \n",
            "  inflating: Parsed_Capuchinbird_Clips/XC433953-10.wav  \n",
            "  inflating: Parsed_Capuchinbird_Clips/XC433953-2.wav  \n",
            "  inflating: Parsed_Capuchinbird_Clips/XC433953-3.wav  \n",
            "  inflating: Parsed_Capuchinbird_Clips/XC433953-4.wav  \n",
            "  inflating: Parsed_Capuchinbird_Clips/XC433953-5.wav  \n",
            "  inflating: Parsed_Capuchinbird_Clips/XC433953-6.wav  \n",
            "  inflating: Parsed_Capuchinbird_Clips/XC433953-7.wav  \n",
            "  inflating: Parsed_Capuchinbird_Clips/XC433953-8.wav  \n",
            "  inflating: Parsed_Capuchinbird_Clips/XC433953-9.wav  \n",
            "  inflating: Parsed_Capuchinbird_Clips/XC44070-0.wav  \n",
            "  inflating: Parsed_Capuchinbird_Clips/XC44070-1.wav  \n",
            "  inflating: Parsed_Capuchinbird_Clips/XC44070-2.wav  \n",
            "  inflating: Parsed_Capuchinbird_Clips/XC456236-0.wav  \n",
            "  inflating: Parsed_Capuchinbird_Clips/XC456236-1.wav  \n",
            "  inflating: Parsed_Capuchinbird_Clips/XC456236-2.wav  \n",
            "  inflating: Parsed_Capuchinbird_Clips/XC456236-3.wav  \n",
            "  inflating: Parsed_Capuchinbird_Clips/XC456236-4.wav  \n",
            "  inflating: Parsed_Capuchinbird_Clips/XC456314-0.wav  \n",
            "  inflating: Parsed_Capuchinbird_Clips/XC46077-0.wav  \n",
            "  inflating: Parsed_Capuchinbird_Clips/XC46077-1.wav  \n",
            "  inflating: Parsed_Capuchinbird_Clips/XC46077-2.wav  \n",
            "  inflating: Parsed_Capuchinbird_Clips/XC46241-0.wav  \n",
            "  inflating: Parsed_Capuchinbird_Clips/XC46241-1.wav  \n",
            "  inflating: Parsed_Capuchinbird_Clips/XC46241-2.wav  \n",
            "  inflating: Parsed_Capuchinbird_Clips/XC46241-3.wav  \n",
            "  inflating: Parsed_Capuchinbird_Clips/XC46241-4.wav  \n",
            "  inflating: Parsed_Capuchinbird_Clips/XC46241-5.wav  \n",
            "  inflating: Parsed_Capuchinbird_Clips/XC479556-0.wav  \n",
            "  inflating: Parsed_Capuchinbird_Clips/XC495697-0.wav  \n",
            "  inflating: Parsed_Capuchinbird_Clips/XC495697-1.wav  \n",
            "  inflating: Parsed_Capuchinbird_Clips/XC495697-2.wav  \n",
            "  inflating: Parsed_Capuchinbird_Clips/XC495697-3.wav  \n",
            "  inflating: Parsed_Capuchinbird_Clips/XC495697-4.wav  \n",
            "  inflating: Parsed_Capuchinbird_Clips/XC513083-0.wav  \n",
            "  inflating: Parsed_Capuchinbird_Clips/XC513083-1.wav  \n",
            "  inflating: Parsed_Capuchinbird_Clips/XC513083-2.wav  \n",
            "  inflating: Parsed_Capuchinbird_Clips/XC520626-0.wav  \n",
            "  inflating: Parsed_Capuchinbird_Clips/XC520626-1.wav  \n",
            "  inflating: Parsed_Capuchinbird_Clips/XC520626-2.wav  \n",
            "  inflating: Parsed_Capuchinbird_Clips/XC520626-3.wav  \n",
            "  inflating: Parsed_Capuchinbird_Clips/XC526106-0.wav  \n",
            "  inflating: Parsed_Capuchinbird_Clips/XC526106-1.wav  \n",
            "  inflating: Parsed_Capuchinbird_Clips/XC526106-2.wav  \n",
            "  inflating: Parsed_Capuchinbird_Clips/XC526106-3.wav  \n",
            "  inflating: Parsed_Capuchinbird_Clips/XC526106-4.wav  \n",
            "  inflating: Parsed_Capuchinbird_Clips/XC526106-5.wav  \n",
            "  inflating: Parsed_Capuchinbird_Clips/XC574020-0.wav  \n",
            "  inflating: Parsed_Capuchinbird_Clips/XC574021-0.wav  \n",
            "  inflating: Parsed_Capuchinbird_Clips/XC600460-0.wav  \n",
            "  inflating: Parsed_Capuchinbird_Clips/XC600460-1.wav  \n",
            "  inflating: Parsed_Capuchinbird_Clips/XC600460-2.wav  \n",
            "  inflating: Parsed_Capuchinbird_Clips/XC600460-3.wav  \n",
            "  inflating: Parsed_Capuchinbird_Clips/XC600460-4.wav  \n",
            "  inflating: Parsed_Capuchinbird_Clips/XC600460-5.wav  \n",
            "  inflating: Parsed_Capuchinbird_Clips/XC65195-0.wav  \n",
            "  inflating: Parsed_Capuchinbird_Clips/XC65196-0.wav  \n",
            "  inflating: Parsed_Capuchinbird_Clips/XC65196-1.wav  \n",
            "  inflating: Parsed_Capuchinbird_Clips/XC65196-2.wav  \n",
            "  inflating: Parsed_Capuchinbird_Clips/XC65196-3.wav  \n",
            "  inflating: Parsed_Capuchinbird_Clips/XC65196-4.wav  \n",
            "  inflating: Parsed_Capuchinbird_Clips/XC79965-0.wav  \n",
            "  inflating: Parsed_Capuchinbird_Clips/XC79965-1.wav  \n",
            "  inflating: Parsed_Capuchinbird_Clips/XC79965-10.wav  \n",
            "  inflating: Parsed_Capuchinbird_Clips/XC79965-2.wav  \n",
            "  inflating: Parsed_Capuchinbird_Clips/XC79965-3.wav  \n",
            "  inflating: Parsed_Capuchinbird_Clips/XC79965-4.wav  \n",
            "  inflating: Parsed_Capuchinbird_Clips/XC79965-5.wav  \n",
            "  inflating: Parsed_Capuchinbird_Clips/XC79965-6.wav  \n",
            "  inflating: Parsed_Capuchinbird_Clips/XC79965-7.wav  \n",
            "  inflating: Parsed_Capuchinbird_Clips/XC79965-8.wav  \n",
            "  inflating: Parsed_Capuchinbird_Clips/XC79965-9.wav  \n",
            "  inflating: Parsed_Capuchinbird_Clips/XC9221-0.wav  \n",
            "  inflating: Parsed_Capuchinbird_Clips/XC9221-1.wav  \n",
            "  inflating: Parsed_Capuchinbird_Clips/XC9221-2.wav  \n",
            "  inflating: Parsed_Capuchinbird_Clips/XC98557-0.wav  \n",
            "  inflating: Parsed_Capuchinbird_Clips/XC98557-1.wav  \n",
            "  inflating: Parsed_Capuchinbird_Clips/XC9892-0.wav  \n",
            "  inflating: Parsed_Not_Capuchinbird_Clips/Crickets-chirping-0.wav  \n",
            "  inflating: Parsed_Not_Capuchinbird_Clips/Crickets-chirping-1.wav  \n",
            "  inflating: Parsed_Not_Capuchinbird_Clips/Crickets-chirping-10.wav  \n",
            "  inflating: Parsed_Not_Capuchinbird_Clips/Crickets-chirping-2.wav  \n",
            "  inflating: Parsed_Not_Capuchinbird_Clips/Crickets-chirping-3.wav  \n",
            "  inflating: Parsed_Not_Capuchinbird_Clips/Crickets-chirping-4.wav  \n",
            "  inflating: Parsed_Not_Capuchinbird_Clips/Crickets-chirping-5.wav  \n",
            "  inflating: Parsed_Not_Capuchinbird_Clips/Crickets-chirping-6.wav  \n",
            "  inflating: Parsed_Not_Capuchinbird_Clips/Crickets-chirping-7.wav  \n",
            "  inflating: Parsed_Not_Capuchinbird_Clips/Crickets-chirping-8.wav  \n",
            "  inflating: Parsed_Not_Capuchinbird_Clips/Crickets-chirping-9.wav  \n",
            "  inflating: Parsed_Not_Capuchinbird_Clips/Crickets-chirping-at-night-0.wav  \n",
            "  inflating: Parsed_Not_Capuchinbird_Clips/Crickets-chirping-at-night-1.wav  \n",
            "  inflating: Parsed_Not_Capuchinbird_Clips/Crickets-chirping-at-night-10.wav  \n",
            "  inflating: Parsed_Not_Capuchinbird_Clips/Crickets-chirping-at-night-11.wav  \n",
            "  inflating: Parsed_Not_Capuchinbird_Clips/Crickets-chirping-at-night-12.wav  \n",
            "  inflating: Parsed_Not_Capuchinbird_Clips/Crickets-chirping-at-night-13.wav  \n",
            "  inflating: Parsed_Not_Capuchinbird_Clips/Crickets-chirping-at-night-2.wav  \n",
            "  inflating: Parsed_Not_Capuchinbird_Clips/Crickets-chirping-at-night-3.wav  \n",
            "  inflating: Parsed_Not_Capuchinbird_Clips/Crickets-chirping-at-night-4.wav  \n",
            "  inflating: Parsed_Not_Capuchinbird_Clips/Crickets-chirping-at-night-5.wav  \n",
            "  inflating: Parsed_Not_Capuchinbird_Clips/Crickets-chirping-at-night-6.wav  \n",
            "  inflating: Parsed_Not_Capuchinbird_Clips/Crickets-chirping-at-night-7.wav  \n",
            "  inflating: Parsed_Not_Capuchinbird_Clips/Crickets-chirping-at-night-8.wav  \n",
            "  inflating: Parsed_Not_Capuchinbird_Clips/Crickets-chirping-at-night-9.wav  \n",
            "  inflating: Parsed_Not_Capuchinbird_Clips/afternoon-birds-song-in-forest-0.wav  \n",
            "  inflating: Parsed_Not_Capuchinbird_Clips/afternoon-birds-song-in-forest-1.wav  \n",
            "  inflating: Parsed_Not_Capuchinbird_Clips/afternoon-birds-song-in-forest-10.wav  \n",
            "  inflating: Parsed_Not_Capuchinbird_Clips/afternoon-birds-song-in-forest-11.wav  \n",
            "  inflating: Parsed_Not_Capuchinbird_Clips/afternoon-birds-song-in-forest-12.wav  \n",
            "  inflating: Parsed_Not_Capuchinbird_Clips/afternoon-birds-song-in-forest-13.wav  \n",
            "  inflating: Parsed_Not_Capuchinbird_Clips/afternoon-birds-song-in-forest-14.wav  \n",
            "  inflating: Parsed_Not_Capuchinbird_Clips/afternoon-birds-song-in-forest-15.wav  \n",
            "  inflating: Parsed_Not_Capuchinbird_Clips/afternoon-birds-song-in-forest-16.wav  \n",
            "  inflating: Parsed_Not_Capuchinbird_Clips/afternoon-birds-song-in-forest-17.wav  \n",
            "  inflating: Parsed_Not_Capuchinbird_Clips/afternoon-birds-song-in-forest-18.wav  \n",
            "  inflating: Parsed_Not_Capuchinbird_Clips/afternoon-birds-song-in-forest-19.wav  \n",
            "  inflating: Parsed_Not_Capuchinbird_Clips/afternoon-birds-song-in-forest-2.wav  \n",
            "  inflating: Parsed_Not_Capuchinbird_Clips/afternoon-birds-song-in-forest-20.wav  \n",
            "  inflating: Parsed_Not_Capuchinbird_Clips/afternoon-birds-song-in-forest-21.wav  \n",
            "  inflating: Parsed_Not_Capuchinbird_Clips/afternoon-birds-song-in-forest-22.wav  \n",
            "  inflating: Parsed_Not_Capuchinbird_Clips/afternoon-birds-song-in-forest-23.wav  \n",
            "  inflating: Parsed_Not_Capuchinbird_Clips/afternoon-birds-song-in-forest-24.wav  \n",
            "  inflating: Parsed_Not_Capuchinbird_Clips/afternoon-birds-song-in-forest-25.wav  \n",
            "  inflating: Parsed_Not_Capuchinbird_Clips/afternoon-birds-song-in-forest-26.wav  \n",
            "  inflating: Parsed_Not_Capuchinbird_Clips/afternoon-birds-song-in-forest-27.wav  \n",
            "  inflating: Parsed_Not_Capuchinbird_Clips/afternoon-birds-song-in-forest-28.wav  \n",
            "  inflating: Parsed_Not_Capuchinbird_Clips/afternoon-birds-song-in-forest-29.wav  \n",
            "  inflating: Parsed_Not_Capuchinbird_Clips/afternoon-birds-song-in-forest-3.wav  \n",
            "  inflating: Parsed_Not_Capuchinbird_Clips/afternoon-birds-song-in-forest-30.wav  \n",
            "  inflating: Parsed_Not_Capuchinbird_Clips/afternoon-birds-song-in-forest-31.wav  \n",
            "  inflating: Parsed_Not_Capuchinbird_Clips/afternoon-birds-song-in-forest-32.wav  \n",
            "  inflating: Parsed_Not_Capuchinbird_Clips/afternoon-birds-song-in-forest-33.wav  \n",
            "  inflating: Parsed_Not_Capuchinbird_Clips/afternoon-birds-song-in-forest-34.wav  \n",
            "  inflating: Parsed_Not_Capuchinbird_Clips/afternoon-birds-song-in-forest-4.wav  \n",
            "  inflating: Parsed_Not_Capuchinbird_Clips/afternoon-birds-song-in-forest-5.wav  \n",
            "  inflating: Parsed_Not_Capuchinbird_Clips/afternoon-birds-song-in-forest-6.wav  \n",
            "  inflating: Parsed_Not_Capuchinbird_Clips/afternoon-birds-song-in-forest-7.wav  \n",
            "  inflating: Parsed_Not_Capuchinbird_Clips/afternoon-birds-song-in-forest-8.wav  \n",
            "  inflating: Parsed_Not_Capuchinbird_Clips/afternoon-birds-song-in-forest-9.wav  \n",
            "  inflating: Parsed_Not_Capuchinbird_Clips/birds-singing-in-forest-sounds-0.wav  \n",
            "  inflating: Parsed_Not_Capuchinbird_Clips/birds-singing-in-forest-sounds-1.wav  \n",
            "  inflating: Parsed_Not_Capuchinbird_Clips/birds-singing-in-forest-sounds-10.wav  \n",
            "  inflating: Parsed_Not_Capuchinbird_Clips/birds-singing-in-forest-sounds-11.wav  \n",
            "  inflating: Parsed_Not_Capuchinbird_Clips/birds-singing-in-forest-sounds-12.wav  \n",
            "  inflating: Parsed_Not_Capuchinbird_Clips/birds-singing-in-forest-sounds-13.wav  \n",
            "  inflating: Parsed_Not_Capuchinbird_Clips/birds-singing-in-forest-sounds-14.wav  \n",
            "  inflating: Parsed_Not_Capuchinbird_Clips/birds-singing-in-forest-sounds-15.wav  \n",
            "  inflating: Parsed_Not_Capuchinbird_Clips/birds-singing-in-forest-sounds-16.wav  \n",
            "  inflating: Parsed_Not_Capuchinbird_Clips/birds-singing-in-forest-sounds-17.wav  \n",
            "  inflating: Parsed_Not_Capuchinbird_Clips/birds-singing-in-forest-sounds-18.wav  \n",
            "  inflating: Parsed_Not_Capuchinbird_Clips/birds-singing-in-forest-sounds-19.wav  \n",
            "  inflating: Parsed_Not_Capuchinbird_Clips/birds-singing-in-forest-sounds-2.wav  \n",
            "  inflating: Parsed_Not_Capuchinbird_Clips/birds-singing-in-forest-sounds-20.wav  \n",
            "  inflating: Parsed_Not_Capuchinbird_Clips/birds-singing-in-forest-sounds-21.wav  \n",
            "  inflating: Parsed_Not_Capuchinbird_Clips/birds-singing-in-forest-sounds-22.wav  \n",
            "  inflating: Parsed_Not_Capuchinbird_Clips/birds-singing-in-forest-sounds-23.wav  \n",
            "  inflating: Parsed_Not_Capuchinbird_Clips/birds-singing-in-forest-sounds-24.wav  \n",
            "  inflating: Parsed_Not_Capuchinbird_Clips/birds-singing-in-forest-sounds-25.wav  \n",
            "  inflating: Parsed_Not_Capuchinbird_Clips/birds-singing-in-forest-sounds-26.wav  \n",
            "  inflating: Parsed_Not_Capuchinbird_Clips/birds-singing-in-forest-sounds-27.wav  \n",
            "  inflating: Parsed_Not_Capuchinbird_Clips/birds-singing-in-forest-sounds-28.wav  \n",
            "  inflating: Parsed_Not_Capuchinbird_Clips/birds-singing-in-forest-sounds-29.wav  \n",
            "  inflating: Parsed_Not_Capuchinbird_Clips/birds-singing-in-forest-sounds-3.wav  \n",
            "  inflating: Parsed_Not_Capuchinbird_Clips/birds-singing-in-forest-sounds-30.wav  \n",
            "  inflating: Parsed_Not_Capuchinbird_Clips/birds-singing-in-forest-sounds-31.wav  \n",
            "  inflating: Parsed_Not_Capuchinbird_Clips/birds-singing-in-forest-sounds-32.wav  \n",
            "  inflating: Parsed_Not_Capuchinbird_Clips/birds-singing-in-forest-sounds-33.wav  \n",
            "  inflating: Parsed_Not_Capuchinbird_Clips/birds-singing-in-forest-sounds-34.wav  \n",
            "  inflating: Parsed_Not_Capuchinbird_Clips/birds-singing-in-forest-sounds-35.wav  \n",
            "  inflating: Parsed_Not_Capuchinbird_Clips/birds-singing-in-forest-sounds-36.wav  \n",
            "  inflating: Parsed_Not_Capuchinbird_Clips/birds-singing-in-forest-sounds-37.wav  \n",
            "  inflating: Parsed_Not_Capuchinbird_Clips/birds-singing-in-forest-sounds-38.wav  \n",
            "  inflating: Parsed_Not_Capuchinbird_Clips/birds-singing-in-forest-sounds-39.wav  \n",
            "  inflating: Parsed_Not_Capuchinbird_Clips/birds-singing-in-forest-sounds-4.wav  \n",
            "  inflating: Parsed_Not_Capuchinbird_Clips/birds-singing-in-forest-sounds-40.wav  \n",
            "  inflating: Parsed_Not_Capuchinbird_Clips/birds-singing-in-forest-sounds-41.wav  \n",
            "  inflating: Parsed_Not_Capuchinbird_Clips/birds-singing-in-forest-sounds-42.wav  \n",
            "  inflating: Parsed_Not_Capuchinbird_Clips/birds-singing-in-forest-sounds-43.wav  \n",
            "  inflating: Parsed_Not_Capuchinbird_Clips/birds-singing-in-forest-sounds-44.wav  \n",
            "  inflating: Parsed_Not_Capuchinbird_Clips/birds-singing-in-forest-sounds-45.wav  \n",
            "  inflating: Parsed_Not_Capuchinbird_Clips/birds-singing-in-forest-sounds-46.wav  \n",
            "  inflating: Parsed_Not_Capuchinbird_Clips/birds-singing-in-forest-sounds-47.wav  \n",
            "  inflating: Parsed_Not_Capuchinbird_Clips/birds-singing-in-forest-sounds-48.wav  \n",
            "  inflating: Parsed_Not_Capuchinbird_Clips/birds-singing-in-forest-sounds-49.wav  \n",
            "  inflating: Parsed_Not_Capuchinbird_Clips/birds-singing-in-forest-sounds-5.wav  \n",
            "  inflating: Parsed_Not_Capuchinbird_Clips/birds-singing-in-forest-sounds-50.wav  \n",
            "  inflating: Parsed_Not_Capuchinbird_Clips/birds-singing-in-forest-sounds-51.wav  \n",
            "  inflating: Parsed_Not_Capuchinbird_Clips/birds-singing-in-forest-sounds-52.wav  \n",
            "  inflating: Parsed_Not_Capuchinbird_Clips/birds-singing-in-forest-sounds-53.wav  \n",
            "  inflating: Parsed_Not_Capuchinbird_Clips/birds-singing-in-forest-sounds-54.wav  \n",
            "  inflating: Parsed_Not_Capuchinbird_Clips/birds-singing-in-forest-sounds-55.wav  \n",
            "  inflating: Parsed_Not_Capuchinbird_Clips/birds-singing-in-forest-sounds-56.wav  \n",
            "  inflating: Parsed_Not_Capuchinbird_Clips/birds-singing-in-forest-sounds-6.wav  \n",
            "  inflating: Parsed_Not_Capuchinbird_Clips/birds-singing-in-forest-sounds-7.wav  \n",
            "  inflating: Parsed_Not_Capuchinbird_Clips/birds-singing-in-forest-sounds-8.wav  \n",
            "  inflating: Parsed_Not_Capuchinbird_Clips/birds-singing-in-forest-sounds-9.wav  \n",
            "  inflating: Parsed_Not_Capuchinbird_Clips/bobwhite-quail-sound-0.wav  \n",
            "  inflating: Parsed_Not_Capuchinbird_Clips/bobwhite-quail-sound-1.wav  \n",
            "  inflating: Parsed_Not_Capuchinbird_Clips/bobwhite-quail-sound-10.wav  \n",
            "  inflating: Parsed_Not_Capuchinbird_Clips/bobwhite-quail-sound-11.wav  \n",
            "  inflating: Parsed_Not_Capuchinbird_Clips/bobwhite-quail-sound-12.wav  \n",
            "  inflating: Parsed_Not_Capuchinbird_Clips/bobwhite-quail-sound-13.wav  \n",
            "  inflating: Parsed_Not_Capuchinbird_Clips/bobwhite-quail-sound-14.wav  \n",
            "  inflating: Parsed_Not_Capuchinbird_Clips/bobwhite-quail-sound-15.wav  \n",
            "  inflating: Parsed_Not_Capuchinbird_Clips/bobwhite-quail-sound-16.wav  \n",
            "  inflating: Parsed_Not_Capuchinbird_Clips/bobwhite-quail-sound-17.wav  \n",
            "  inflating: Parsed_Not_Capuchinbird_Clips/bobwhite-quail-sound-18.wav  \n",
            "  inflating: Parsed_Not_Capuchinbird_Clips/bobwhite-quail-sound-19.wav  \n",
            "  inflating: Parsed_Not_Capuchinbird_Clips/bobwhite-quail-sound-2.wav  \n",
            "  inflating: Parsed_Not_Capuchinbird_Clips/bobwhite-quail-sound-20.wav  \n",
            "  inflating: Parsed_Not_Capuchinbird_Clips/bobwhite-quail-sound-3.wav  \n",
            "  inflating: Parsed_Not_Capuchinbird_Clips/bobwhite-quail-sound-4.wav  \n",
            "  inflating: Parsed_Not_Capuchinbird_Clips/bobwhite-quail-sound-5.wav  \n",
            "  inflating: Parsed_Not_Capuchinbird_Clips/bobwhite-quail-sound-6.wav  \n",
            "  inflating: Parsed_Not_Capuchinbird_Clips/bobwhite-quail-sound-7.wav  \n",
            "  inflating: Parsed_Not_Capuchinbird_Clips/bobwhite-quail-sound-8.wav  \n",
            "  inflating: Parsed_Not_Capuchinbird_Clips/bobwhite-quail-sound-9.wav  \n",
            "  inflating: Parsed_Not_Capuchinbird_Clips/cardinal-bird-call-0.wav  \n",
            "  inflating: Parsed_Not_Capuchinbird_Clips/cardinal-bird-call-1.wav  \n",
            "  inflating: Parsed_Not_Capuchinbird_Clips/cardinal-bird-call-2.wav  \n",
            "  inflating: Parsed_Not_Capuchinbird_Clips/cardinal-bird-call-3.wav  \n",
            "  inflating: Parsed_Not_Capuchinbird_Clips/cicadas-noise-sound-effect-0.wav  \n",
            "  inflating: Parsed_Not_Capuchinbird_Clips/cicadas-noise-sound-effect-1.wav  \n",
            "  inflating: Parsed_Not_Capuchinbird_Clips/cicadas-noise-sound-effect-2.wav  \n",
            "  inflating: Parsed_Not_Capuchinbird_Clips/cicadas-noise-sound-effect-3.wav  \n",
            "  inflating: Parsed_Not_Capuchinbird_Clips/corncrake-sound-0.wav  \n",
            "  inflating: Parsed_Not_Capuchinbird_Clips/corncrake-sound-1.wav  \n",
            "  inflating: Parsed_Not_Capuchinbird_Clips/corncrake-sound-2.wav  \n",
            "  inflating: Parsed_Not_Capuchinbird_Clips/cricket-sounds-for-sleep-0.wav  \n",
            "  inflating: Parsed_Not_Capuchinbird_Clips/cricket-sounds-for-sleep-1.wav  \n",
            "  inflating: Parsed_Not_Capuchinbird_Clips/cricket-sounds-for-sleep-10.wav  \n",
            "  inflating: Parsed_Not_Capuchinbird_Clips/cricket-sounds-for-sleep-11.wav  \n",
            "  inflating: Parsed_Not_Capuchinbird_Clips/cricket-sounds-for-sleep-12.wav  \n",
            "  inflating: Parsed_Not_Capuchinbird_Clips/cricket-sounds-for-sleep-13.wav  \n",
            "  inflating: Parsed_Not_Capuchinbird_Clips/cricket-sounds-for-sleep-14.wav  \n",
            "  inflating: Parsed_Not_Capuchinbird_Clips/cricket-sounds-for-sleep-15.wav  \n",
            "  inflating: Parsed_Not_Capuchinbird_Clips/cricket-sounds-for-sleep-16.wav  \n",
            "  inflating: Parsed_Not_Capuchinbird_Clips/cricket-sounds-for-sleep-17.wav  \n",
            "  inflating: Parsed_Not_Capuchinbird_Clips/cricket-sounds-for-sleep-18.wav  \n",
            "  inflating: Parsed_Not_Capuchinbird_Clips/cricket-sounds-for-sleep-19.wav  \n",
            "  inflating: Parsed_Not_Capuchinbird_Clips/cricket-sounds-for-sleep-2.wav  \n",
            "  inflating: Parsed_Not_Capuchinbird_Clips/cricket-sounds-for-sleep-20.wav  \n",
            "  inflating: Parsed_Not_Capuchinbird_Clips/cricket-sounds-for-sleep-21.wav  \n",
            "  inflating: Parsed_Not_Capuchinbird_Clips/cricket-sounds-for-sleep-22.wav  \n",
            "  inflating: Parsed_Not_Capuchinbird_Clips/cricket-sounds-for-sleep-23.wav  \n",
            "  inflating: Parsed_Not_Capuchinbird_Clips/cricket-sounds-for-sleep-24.wav  \n",
            "  inflating: Parsed_Not_Capuchinbird_Clips/cricket-sounds-for-sleep-25.wav  \n",
            "  inflating: Parsed_Not_Capuchinbird_Clips/cricket-sounds-for-sleep-26.wav  \n",
            "  inflating: Parsed_Not_Capuchinbird_Clips/cricket-sounds-for-sleep-27.wav  \n",
            "  inflating: Parsed_Not_Capuchinbird_Clips/cricket-sounds-for-sleep-28.wav  \n",
            "  inflating: Parsed_Not_Capuchinbird_Clips/cricket-sounds-for-sleep-29.wav  \n",
            "  inflating: Parsed_Not_Capuchinbird_Clips/cricket-sounds-for-sleep-3.wav  \n",
            "  inflating: Parsed_Not_Capuchinbird_Clips/cricket-sounds-for-sleep-30.wav  \n",
            "  inflating: Parsed_Not_Capuchinbird_Clips/cricket-sounds-for-sleep-31.wav  \n",
            "  inflating: Parsed_Not_Capuchinbird_Clips/cricket-sounds-for-sleep-32.wav  \n",
            "  inflating: Parsed_Not_Capuchinbird_Clips/cricket-sounds-for-sleep-33.wav  \n",
            "  inflating: Parsed_Not_Capuchinbird_Clips/cricket-sounds-for-sleep-34.wav  \n",
            "  inflating: Parsed_Not_Capuchinbird_Clips/cricket-sounds-for-sleep-35.wav  \n",
            "  inflating: Parsed_Not_Capuchinbird_Clips/cricket-sounds-for-sleep-36.wav  \n",
            "  inflating: Parsed_Not_Capuchinbird_Clips/cricket-sounds-for-sleep-37.wav  \n",
            "  inflating: Parsed_Not_Capuchinbird_Clips/cricket-sounds-for-sleep-38.wav  \n",
            "  inflating: Parsed_Not_Capuchinbird_Clips/cricket-sounds-for-sleep-39.wav  \n",
            "  inflating: Parsed_Not_Capuchinbird_Clips/cricket-sounds-for-sleep-4.wav  \n",
            "  inflating: Parsed_Not_Capuchinbird_Clips/cricket-sounds-for-sleep-40.wav  \n",
            "  inflating: Parsed_Not_Capuchinbird_Clips/cricket-sounds-for-sleep-41.wav  \n",
            "  inflating: Parsed_Not_Capuchinbird_Clips/cricket-sounds-for-sleep-42.wav  \n",
            "  inflating: Parsed_Not_Capuchinbird_Clips/cricket-sounds-for-sleep-43.wav  \n",
            "  inflating: Parsed_Not_Capuchinbird_Clips/cricket-sounds-for-sleep-44.wav  \n",
            "  inflating: Parsed_Not_Capuchinbird_Clips/cricket-sounds-for-sleep-45.wav  \n",
            "  inflating: Parsed_Not_Capuchinbird_Clips/cricket-sounds-for-sleep-46.wav  \n",
            "  inflating: Parsed_Not_Capuchinbird_Clips/cricket-sounds-for-sleep-47.wav  \n",
            "  inflating: Parsed_Not_Capuchinbird_Clips/cricket-sounds-for-sleep-48.wav  \n",
            "  inflating: Parsed_Not_Capuchinbird_Clips/cricket-sounds-for-sleep-49.wav  \n",
            "  inflating: Parsed_Not_Capuchinbird_Clips/cricket-sounds-for-sleep-5.wav  \n",
            "  inflating: Parsed_Not_Capuchinbird_Clips/cricket-sounds-for-sleep-50.wav  \n",
            "  inflating: Parsed_Not_Capuchinbird_Clips/cricket-sounds-for-sleep-51.wav  \n",
            "  inflating: Parsed_Not_Capuchinbird_Clips/cricket-sounds-for-sleep-52.wav  \n",
            "  inflating: Parsed_Not_Capuchinbird_Clips/cricket-sounds-for-sleep-53.wav  \n",
            "  inflating: Parsed_Not_Capuchinbird_Clips/cricket-sounds-for-sleep-54.wav  \n",
            "  inflating: Parsed_Not_Capuchinbird_Clips/cricket-sounds-for-sleep-55.wav  \n",
            "  inflating: Parsed_Not_Capuchinbird_Clips/cricket-sounds-for-sleep-56.wav  \n",
            "  inflating: Parsed_Not_Capuchinbird_Clips/cricket-sounds-for-sleep-57.wav  \n",
            "  inflating: Parsed_Not_Capuchinbird_Clips/cricket-sounds-for-sleep-58.wav  \n",
            "  inflating: Parsed_Not_Capuchinbird_Clips/cricket-sounds-for-sleep-59.wav  \n",
            "  inflating: Parsed_Not_Capuchinbird_Clips/cricket-sounds-for-sleep-6.wav  \n",
            "  inflating: Parsed_Not_Capuchinbird_Clips/cricket-sounds-for-sleep-7.wav  \n",
            "  inflating: Parsed_Not_Capuchinbird_Clips/cricket-sounds-for-sleep-8.wav  \n",
            "  inflating: Parsed_Not_Capuchinbird_Clips/cricket-sounds-for-sleep-9.wav  \n",
            "  inflating: Parsed_Not_Capuchinbird_Clips/crickets-chirping-crickets-sound-0.wav  \n",
            "  inflating: Parsed_Not_Capuchinbird_Clips/crickets-chirping-crickets-sound-1.wav  \n",
            "  inflating: Parsed_Not_Capuchinbird_Clips/crickets-chirping-crickets-sound-10.wav  \n",
            "  inflating: Parsed_Not_Capuchinbird_Clips/crickets-chirping-crickets-sound-11.wav  \n",
            "  inflating: Parsed_Not_Capuchinbird_Clips/crickets-chirping-crickets-sound-12.wav  \n",
            "  inflating: Parsed_Not_Capuchinbird_Clips/crickets-chirping-crickets-sound-13.wav  \n",
            "  inflating: Parsed_Not_Capuchinbird_Clips/crickets-chirping-crickets-sound-14.wav  \n",
            "  inflating: Parsed_Not_Capuchinbird_Clips/crickets-chirping-crickets-sound-15.wav  \n",
            "  inflating: Parsed_Not_Capuchinbird_Clips/crickets-chirping-crickets-sound-16.wav  \n",
            "  inflating: Parsed_Not_Capuchinbird_Clips/crickets-chirping-crickets-sound-17.wav  \n",
            "  inflating: Parsed_Not_Capuchinbird_Clips/crickets-chirping-crickets-sound-18.wav  \n",
            "  inflating: Parsed_Not_Capuchinbird_Clips/crickets-chirping-crickets-sound-19.wav  \n",
            "  inflating: Parsed_Not_Capuchinbird_Clips/crickets-chirping-crickets-sound-2.wav  \n",
            "  inflating: Parsed_Not_Capuchinbird_Clips/crickets-chirping-crickets-sound-20.wav  \n",
            "  inflating: Parsed_Not_Capuchinbird_Clips/crickets-chirping-crickets-sound-21.wav  \n",
            "  inflating: Parsed_Not_Capuchinbird_Clips/crickets-chirping-crickets-sound-22.wav  \n",
            "  inflating: Parsed_Not_Capuchinbird_Clips/crickets-chirping-crickets-sound-23.wav  \n",
            "  inflating: Parsed_Not_Capuchinbird_Clips/crickets-chirping-crickets-sound-24.wav  \n",
            "  inflating: Parsed_Not_Capuchinbird_Clips/crickets-chirping-crickets-sound-25.wav  \n",
            "  inflating: Parsed_Not_Capuchinbird_Clips/crickets-chirping-crickets-sound-26.wav  \n",
            "  inflating: Parsed_Not_Capuchinbird_Clips/crickets-chirping-crickets-sound-27.wav  \n",
            "  inflating: Parsed_Not_Capuchinbird_Clips/crickets-chirping-crickets-sound-28.wav  \n",
            "  inflating: Parsed_Not_Capuchinbird_Clips/crickets-chirping-crickets-sound-29.wav  \n",
            "  inflating: Parsed_Not_Capuchinbird_Clips/crickets-chirping-crickets-sound-3.wav  \n",
            "  inflating: Parsed_Not_Capuchinbird_Clips/crickets-chirping-crickets-sound-4.wav  \n",
            "  inflating: Parsed_Not_Capuchinbird_Clips/crickets-chirping-crickets-sound-5.wav  \n",
            "  inflating: Parsed_Not_Capuchinbird_Clips/crickets-chirping-crickets-sound-6.wav  \n",
            "  inflating: Parsed_Not_Capuchinbird_Clips/crickets-chirping-crickets-sound-7.wav  \n",
            "  inflating: Parsed_Not_Capuchinbird_Clips/crickets-chirping-crickets-sound-8.wav  \n",
            "  inflating: Parsed_Not_Capuchinbird_Clips/crickets-chirping-crickets-sound-9.wav  \n",
            "  inflating: Parsed_Not_Capuchinbird_Clips/crickets-chirping-noise-0.wav  \n",
            "  inflating: Parsed_Not_Capuchinbird_Clips/crickets-chirping-noise-1.wav  \n",
            "  inflating: Parsed_Not_Capuchinbird_Clips/crickets-chirping-noise-10.wav  \n",
            "  inflating: Parsed_Not_Capuchinbird_Clips/crickets-chirping-noise-11.wav  \n",
            "  inflating: Parsed_Not_Capuchinbird_Clips/crickets-chirping-noise-12.wav  \n",
            "  inflating: Parsed_Not_Capuchinbird_Clips/crickets-chirping-noise-13.wav  \n",
            "  inflating: Parsed_Not_Capuchinbird_Clips/crickets-chirping-noise-14.wav  \n",
            "  inflating: Parsed_Not_Capuchinbird_Clips/crickets-chirping-noise-15.wav  \n",
            "  inflating: Parsed_Not_Capuchinbird_Clips/crickets-chirping-noise-16.wav  \n",
            "  inflating: Parsed_Not_Capuchinbird_Clips/crickets-chirping-noise-17.wav  \n",
            "  inflating: Parsed_Not_Capuchinbird_Clips/crickets-chirping-noise-18.wav  \n",
            "  inflating: Parsed_Not_Capuchinbird_Clips/crickets-chirping-noise-19.wav  \n",
            "  inflating: Parsed_Not_Capuchinbird_Clips/crickets-chirping-noise-2.wav  \n",
            "  inflating: Parsed_Not_Capuchinbird_Clips/crickets-chirping-noise-20.wav  \n",
            "  inflating: Parsed_Not_Capuchinbird_Clips/crickets-chirping-noise-21.wav  \n",
            "  inflating: Parsed_Not_Capuchinbird_Clips/crickets-chirping-noise-3.wav  \n",
            "  inflating: Parsed_Not_Capuchinbird_Clips/crickets-chirping-noise-4.wav  \n",
            "  inflating: Parsed_Not_Capuchinbird_Clips/crickets-chirping-noise-5.wav  \n",
            "  inflating: Parsed_Not_Capuchinbird_Clips/crickets-chirping-noise-6.wav  \n",
            "  inflating: Parsed_Not_Capuchinbird_Clips/crickets-chirping-noise-7.wav  \n",
            "  inflating: Parsed_Not_Capuchinbird_Clips/crickets-chirping-noise-8.wav  \n",
            "  inflating: Parsed_Not_Capuchinbird_Clips/crickets-chirping-noise-9.wav  \n",
            "  inflating: Parsed_Not_Capuchinbird_Clips/crickets-sound-effect-0.wav  \n",
            "  inflating: Parsed_Not_Capuchinbird_Clips/crickets-sound-effect-1.wav  \n",
            "  inflating: Parsed_Not_Capuchinbird_Clips/crickets-sound-effect-10.wav  \n",
            "  inflating: Parsed_Not_Capuchinbird_Clips/crickets-sound-effect-11.wav  \n",
            "  inflating: Parsed_Not_Capuchinbird_Clips/crickets-sound-effect-12.wav  \n",
            "  inflating: Parsed_Not_Capuchinbird_Clips/crickets-sound-effect-13.wav  \n",
            "  inflating: Parsed_Not_Capuchinbird_Clips/crickets-sound-effect-14.wav  \n",
            "  inflating: Parsed_Not_Capuchinbird_Clips/crickets-sound-effect-15.wav  \n",
            "  inflating: Parsed_Not_Capuchinbird_Clips/crickets-sound-effect-16.wav  \n",
            "  inflating: Parsed_Not_Capuchinbird_Clips/crickets-sound-effect-17.wav  \n",
            "  inflating: Parsed_Not_Capuchinbird_Clips/crickets-sound-effect-18.wav  \n",
            "  inflating: Parsed_Not_Capuchinbird_Clips/crickets-sound-effect-19.wav  \n",
            "  inflating: Parsed_Not_Capuchinbird_Clips/crickets-sound-effect-2.wav  \n",
            "  inflating: Parsed_Not_Capuchinbird_Clips/crickets-sound-effect-20.wav  \n",
            "  inflating: Parsed_Not_Capuchinbird_Clips/crickets-sound-effect-21.wav  \n",
            "  inflating: Parsed_Not_Capuchinbird_Clips/crickets-sound-effect-22.wav  \n",
            "  inflating: Parsed_Not_Capuchinbird_Clips/crickets-sound-effect-23.wav  \n",
            "  inflating: Parsed_Not_Capuchinbird_Clips/crickets-sound-effect-24.wav  \n",
            "  inflating: Parsed_Not_Capuchinbird_Clips/crickets-sound-effect-25.wav  \n",
            "  inflating: Parsed_Not_Capuchinbird_Clips/crickets-sound-effect-26.wav  \n",
            "  inflating: Parsed_Not_Capuchinbird_Clips/crickets-sound-effect-27.wav  \n",
            "  inflating: Parsed_Not_Capuchinbird_Clips/crickets-sound-effect-28.wav  \n",
            "  inflating: Parsed_Not_Capuchinbird_Clips/crickets-sound-effect-29.wav  \n",
            "  inflating: Parsed_Not_Capuchinbird_Clips/crickets-sound-effect-3.wav  \n",
            "  inflating: Parsed_Not_Capuchinbird_Clips/crickets-sound-effect-30.wav  \n",
            "  inflating: Parsed_Not_Capuchinbird_Clips/crickets-sound-effect-31.wav  \n",
            "  inflating: Parsed_Not_Capuchinbird_Clips/crickets-sound-effect-32.wav  \n",
            "  inflating: Parsed_Not_Capuchinbird_Clips/crickets-sound-effect-33.wav  \n",
            "  inflating: Parsed_Not_Capuchinbird_Clips/crickets-sound-effect-34.wav  \n",
            "  inflating: Parsed_Not_Capuchinbird_Clips/crickets-sound-effect-4.wav  \n",
            "  inflating: Parsed_Not_Capuchinbird_Clips/crickets-sound-effect-5.wav  \n",
            "  inflating: Parsed_Not_Capuchinbird_Clips/crickets-sound-effect-6.wav  \n",
            "  inflating: Parsed_Not_Capuchinbird_Clips/crickets-sound-effect-7.wav  \n",
            "  inflating: Parsed_Not_Capuchinbird_Clips/crickets-sound-effect-8.wav  \n",
            "  inflating: Parsed_Not_Capuchinbird_Clips/crickets-sound-effect-9.wav  \n",
            "  inflating: Parsed_Not_Capuchinbird_Clips/crow-cawing-sound-effect-0.wav  \n",
            "  inflating: Parsed_Not_Capuchinbird_Clips/crow-cawing-sound-effect-1.wav  \n",
            "  inflating: Parsed_Not_Capuchinbird_Clips/crow-cawing-sound-effect-10.wav  \n",
            "  inflating: Parsed_Not_Capuchinbird_Clips/crow-cawing-sound-effect-11.wav  \n",
            "  inflating: Parsed_Not_Capuchinbird_Clips/crow-cawing-sound-effect-12.wav  \n",
            "  inflating: Parsed_Not_Capuchinbird_Clips/crow-cawing-sound-effect-13.wav  \n",
            "  inflating: Parsed_Not_Capuchinbird_Clips/crow-cawing-sound-effect-14.wav  \n",
            "  inflating: Parsed_Not_Capuchinbird_Clips/crow-cawing-sound-effect-15.wav  \n",
            "  inflating: Parsed_Not_Capuchinbird_Clips/crow-cawing-sound-effect-2.wav  \n",
            "  inflating: Parsed_Not_Capuchinbird_Clips/crow-cawing-sound-effect-3.wav  \n",
            "  inflating: Parsed_Not_Capuchinbird_Clips/crow-cawing-sound-effect-4.wav  \n",
            "  inflating: Parsed_Not_Capuchinbird_Clips/crow-cawing-sound-effect-5.wav  \n",
            "  inflating: Parsed_Not_Capuchinbird_Clips/crow-cawing-sound-effect-6.wav  \n",
            "  inflating: Parsed_Not_Capuchinbird_Clips/crow-cawing-sound-effect-7.wav  \n",
            "  inflating: Parsed_Not_Capuchinbird_Clips/crow-cawing-sound-effect-8.wav  \n",
            "  inflating: Parsed_Not_Capuchinbird_Clips/crow-cawing-sound-effect-9.wav  \n",
            "  inflating: Parsed_Not_Capuchinbird_Clips/curlew-sound-0.wav  \n",
            "  inflating: Parsed_Not_Capuchinbird_Clips/curlew-sound-1.wav  \n",
            "  inflating: Parsed_Not_Capuchinbird_Clips/curlew-sound-2.wav  \n",
            "  inflating: Parsed_Not_Capuchinbird_Clips/curlew-sound-3.wav  \n",
            "  inflating: Parsed_Not_Capuchinbird_Clips/curlew-sound-4.wav  \n",
            "  inflating: Parsed_Not_Capuchinbird_Clips/dove-bird-call-sound-0.wav  \n",
            "  inflating: Parsed_Not_Capuchinbird_Clips/dove-bird-call-sound-1.wav  \n",
            "  inflating: Parsed_Not_Capuchinbird_Clips/dove-bird-call-sound-2.wav  \n",
            "  inflating: Parsed_Not_Capuchinbird_Clips/dove-bird-sounds-0.wav  \n",
            "  inflating: Parsed_Not_Capuchinbird_Clips/dove-bird-sounds-1.wav  \n",
            "  inflating: Parsed_Not_Capuchinbird_Clips/dove-bird-sounds-2.wav  \n",
            "  inflating: Parsed_Not_Capuchinbird_Clips/dove-bird-sounds-3.wav  \n",
            "  inflating: Parsed_Not_Capuchinbird_Clips/dove-bird-sounds-4.wav  \n",
            "  inflating: Parsed_Not_Capuchinbird_Clips/dove-bird-sounds-5.wav  \n",
            "  inflating: Parsed_Not_Capuchinbird_Clips/dove-bird-sounds-6.wav  \n",
            "  inflating: Parsed_Not_Capuchinbird_Clips/dove-bird-sounds-7.wav  \n",
            "  inflating: Parsed_Not_Capuchinbird_Clips/dove-bird-sounds-8.wav  \n",
            "  inflating: Parsed_Not_Capuchinbird_Clips/dove-bird-sounds-9.wav  \n",
            "  inflating: Parsed_Not_Capuchinbird_Clips/dove-sound-effect-0.wav  \n",
            "  inflating: Parsed_Not_Capuchinbird_Clips/dove-sound-effect-1.wav  \n",
            "  inflating: Parsed_Not_Capuchinbird_Clips/dove-sound-effect-2.wav  \n",
            "  inflating: Parsed_Not_Capuchinbird_Clips/flock-of-pigeons-cooing-sound-effect-0.wav  \n",
            "  inflating: Parsed_Not_Capuchinbird_Clips/flock-of-pigeons-cooing-sound-effect-1.wav  \n",
            "  inflating: Parsed_Not_Capuchinbird_Clips/flock-of-pigeons-cooing-sound-effect-2.wav  \n",
            "  inflating: Parsed_Not_Capuchinbird_Clips/flock-of-pigeons-cooing-sound-effect-3.wav  \n",
            "  inflating: Parsed_Not_Capuchinbird_Clips/flock-of-pigeons-cooing-sound-effect-4.wav  \n",
            "  inflating: Parsed_Not_Capuchinbird_Clips/flock-of-pigeons-cooing-sound-effect-5.wav  \n",
            "  inflating: Parsed_Not_Capuchinbird_Clips/flock-of-pigeons-cooing-sound-effect-6.wav  \n",
            "  inflating: Parsed_Not_Capuchinbird_Clips/forest-birds-and-insects-sound-effect-0.wav  \n",
            "  inflating: Parsed_Not_Capuchinbird_Clips/forest-birds-and-insects-sound-effect-1.wav  \n",
            "  inflating: Parsed_Not_Capuchinbird_Clips/forest-birds-and-insects-sound-effect-2.wav  \n",
            "  inflating: Parsed_Not_Capuchinbird_Clips/forest-birds-and-insects-sound-effect-3.wav  \n",
            "  inflating: Parsed_Not_Capuchinbird_Clips/forest-birds-and-insects-sound-effect-4.wav  \n",
            "  inflating: Parsed_Not_Capuchinbird_Clips/killdeer-sound-0.wav  \n",
            "  inflating: Parsed_Not_Capuchinbird_Clips/killdeer-sound-1.wav  \n",
            "  inflating: Parsed_Not_Capuchinbird_Clips/killdeer-sound-2.wav  \n",
            "  inflating: Parsed_Not_Capuchinbird_Clips/killdeer-sound-3.wav  \n",
            "  inflating: Parsed_Not_Capuchinbird_Clips/killdeer-sound-4.wav  \n",
            "  inflating: Parsed_Not_Capuchinbird_Clips/killdeer-sound-5.wav  \n",
            "  inflating: Parsed_Not_Capuchinbird_Clips/killdeer-sound-6.wav  \n",
            "  inflating: Parsed_Not_Capuchinbird_Clips/killdeer-sound-7.wav  \n",
            "  inflating: Parsed_Not_Capuchinbird_Clips/killdeer-sound-8.wav  \n",
            "  inflating: Parsed_Not_Capuchinbird_Clips/killdeer-sound-9.wav  \n",
            "  inflating: Parsed_Not_Capuchinbird_Clips/magpie-call-sound-effect-0.wav  \n",
            "  inflating: Parsed_Not_Capuchinbird_Clips/magpie-call-sound-effect-1.wav  \n",
            "  inflating: Parsed_Not_Capuchinbird_Clips/magpies-and-crows-cawing-sound-effect-0.wav  \n",
            "  inflating: Parsed_Not_Capuchinbird_Clips/magpies-and-crows-cawing-sound-effect-1.wav  \n",
            "  inflating: Parsed_Not_Capuchinbird_Clips/magpies-and-crows-cawing-sound-effect-10.wav  \n",
            "  inflating: Parsed_Not_Capuchinbird_Clips/magpies-and-crows-cawing-sound-effect-11.wav  \n",
            "  inflating: Parsed_Not_Capuchinbird_Clips/magpies-and-crows-cawing-sound-effect-12.wav  \n",
            "  inflating: Parsed_Not_Capuchinbird_Clips/magpies-and-crows-cawing-sound-effect-13.wav  \n",
            "  inflating: Parsed_Not_Capuchinbird_Clips/magpies-and-crows-cawing-sound-effect-14.wav  \n",
            "  inflating: Parsed_Not_Capuchinbird_Clips/magpies-and-crows-cawing-sound-effect-15.wav  \n",
            "  inflating: Parsed_Not_Capuchinbird_Clips/magpies-and-crows-cawing-sound-effect-16.wav  \n",
            "  inflating: Parsed_Not_Capuchinbird_Clips/magpies-and-crows-cawing-sound-effect-17.wav  \n",
            "  inflating: Parsed_Not_Capuchinbird_Clips/magpies-and-crows-cawing-sound-effect-18.wav  \n",
            "  inflating: Parsed_Not_Capuchinbird_Clips/magpies-and-crows-cawing-sound-effect-19.wav  \n",
            "  inflating: Parsed_Not_Capuchinbird_Clips/magpies-and-crows-cawing-sound-effect-2.wav  \n",
            "  inflating: Parsed_Not_Capuchinbird_Clips/magpies-and-crows-cawing-sound-effect-20.wav  \n",
            "  inflating: Parsed_Not_Capuchinbird_Clips/magpies-and-crows-cawing-sound-effect-21.wav  \n",
            "  inflating: Parsed_Not_Capuchinbird_Clips/magpies-and-crows-cawing-sound-effect-3.wav  \n",
            "  inflating: Parsed_Not_Capuchinbird_Clips/magpies-and-crows-cawing-sound-effect-4.wav  \n",
            "  inflating: Parsed_Not_Capuchinbird_Clips/magpies-and-crows-cawing-sound-effect-5.wav  \n",
            "  inflating: Parsed_Not_Capuchinbird_Clips/magpies-and-crows-cawing-sound-effect-6.wav  \n",
            "  inflating: Parsed_Not_Capuchinbird_Clips/magpies-and-crows-cawing-sound-effect-7.wav  \n",
            "  inflating: Parsed_Not_Capuchinbird_Clips/magpies-and-crows-cawing-sound-effect-8.wav  \n",
            "  inflating: Parsed_Not_Capuchinbird_Clips/magpies-and-crows-cawing-sound-effect-9.wav  \n",
            "  inflating: Parsed_Not_Capuchinbird_Clips/night-insect-sounds-0.wav  \n",
            "  inflating: Parsed_Not_Capuchinbird_Clips/night-insect-sounds-1.wav  \n",
            "  inflating: Parsed_Not_Capuchinbird_Clips/night-insect-sounds-10.wav  \n",
            "  inflating: Parsed_Not_Capuchinbird_Clips/night-insect-sounds-11.wav  \n",
            "  inflating: Parsed_Not_Capuchinbird_Clips/night-insect-sounds-12.wav  \n",
            "  inflating: Parsed_Not_Capuchinbird_Clips/night-insect-sounds-13.wav  \n",
            "  inflating: Parsed_Not_Capuchinbird_Clips/night-insect-sounds-14.wav  \n",
            "  inflating: Parsed_Not_Capuchinbird_Clips/night-insect-sounds-15.wav  \n",
            "  inflating: Parsed_Not_Capuchinbird_Clips/night-insect-sounds-16.wav  \n",
            "  inflating: Parsed_Not_Capuchinbird_Clips/night-insect-sounds-17.wav  \n",
            "  inflating: Parsed_Not_Capuchinbird_Clips/night-insect-sounds-18.wav  \n",
            "  inflating: Parsed_Not_Capuchinbird_Clips/night-insect-sounds-19.wav  \n",
            "  inflating: Parsed_Not_Capuchinbird_Clips/night-insect-sounds-2.wav  \n",
            "  inflating: Parsed_Not_Capuchinbird_Clips/night-insect-sounds-20.wav  \n",
            "  inflating: Parsed_Not_Capuchinbird_Clips/night-insect-sounds-21.wav  \n",
            "  inflating: Parsed_Not_Capuchinbird_Clips/night-insect-sounds-22.wav  \n",
            "  inflating: Parsed_Not_Capuchinbird_Clips/night-insect-sounds-23.wav  \n",
            "  inflating: Parsed_Not_Capuchinbird_Clips/night-insect-sounds-24.wav  \n",
            "  inflating: Parsed_Not_Capuchinbird_Clips/night-insect-sounds-25.wav  \n",
            "  inflating: Parsed_Not_Capuchinbird_Clips/night-insect-sounds-26.wav  \n",
            "  inflating: Parsed_Not_Capuchinbird_Clips/night-insect-sounds-27.wav  \n",
            "  inflating: Parsed_Not_Capuchinbird_Clips/night-insect-sounds-28.wav  \n",
            "  inflating: Parsed_Not_Capuchinbird_Clips/night-insect-sounds-29.wav  \n",
            "  inflating: Parsed_Not_Capuchinbird_Clips/night-insect-sounds-3.wav  \n",
            "  inflating: Parsed_Not_Capuchinbird_Clips/night-insect-sounds-30.wav  \n",
            "  inflating: Parsed_Not_Capuchinbird_Clips/night-insect-sounds-31.wav  \n",
            "  inflating: Parsed_Not_Capuchinbird_Clips/night-insect-sounds-32.wav  \n",
            "  inflating: Parsed_Not_Capuchinbird_Clips/night-insect-sounds-33.wav  \n",
            "  inflating: Parsed_Not_Capuchinbird_Clips/night-insect-sounds-34.wav  \n",
            "  inflating: Parsed_Not_Capuchinbird_Clips/night-insect-sounds-35.wav  \n",
            "  inflating: Parsed_Not_Capuchinbird_Clips/night-insect-sounds-36.wav  \n",
            "  inflating: Parsed_Not_Capuchinbird_Clips/night-insect-sounds-37.wav  \n",
            "  inflating: Parsed_Not_Capuchinbird_Clips/night-insect-sounds-38.wav  \n",
            "  inflating: Parsed_Not_Capuchinbird_Clips/night-insect-sounds-39.wav  \n",
            "  inflating: Parsed_Not_Capuchinbird_Clips/night-insect-sounds-4.wav  \n",
            "  inflating: Parsed_Not_Capuchinbird_Clips/night-insect-sounds-40.wav  \n",
            "  inflating: Parsed_Not_Capuchinbird_Clips/night-insect-sounds-41.wav  \n",
            "  inflating: Parsed_Not_Capuchinbird_Clips/night-insect-sounds-42.wav  \n",
            "  inflating: Parsed_Not_Capuchinbird_Clips/night-insect-sounds-43.wav  \n",
            "  inflating: Parsed_Not_Capuchinbird_Clips/night-insect-sounds-44.wav  \n",
            "  inflating: Parsed_Not_Capuchinbird_Clips/night-insect-sounds-45.wav  \n",
            "  inflating: Parsed_Not_Capuchinbird_Clips/night-insect-sounds-46.wav  \n",
            "  inflating: Parsed_Not_Capuchinbird_Clips/night-insect-sounds-47.wav  \n",
            "  inflating: Parsed_Not_Capuchinbird_Clips/night-insect-sounds-48.wav  \n",
            "  inflating: Parsed_Not_Capuchinbird_Clips/night-insect-sounds-49.wav  \n",
            "  inflating: Parsed_Not_Capuchinbird_Clips/night-insect-sounds-5.wav  \n",
            "  inflating: Parsed_Not_Capuchinbird_Clips/night-insect-sounds-50.wav  \n",
            "  inflating: Parsed_Not_Capuchinbird_Clips/night-insect-sounds-51.wav  \n",
            "  inflating: Parsed_Not_Capuchinbird_Clips/night-insect-sounds-52.wav  \n",
            "  inflating: Parsed_Not_Capuchinbird_Clips/night-insect-sounds-6.wav  \n",
            "  inflating: Parsed_Not_Capuchinbird_Clips/night-insect-sounds-7.wav  \n",
            "  inflating: Parsed_Not_Capuchinbird_Clips/night-insect-sounds-8.wav  \n",
            "  inflating: Parsed_Not_Capuchinbird_Clips/night-insect-sounds-9.wav  \n",
            "  inflating: Parsed_Not_Capuchinbird_Clips/pheasant-sound-0.wav  \n",
            "  inflating: Parsed_Not_Capuchinbird_Clips/pheasant-sound-1.wav  \n",
            "  inflating: Parsed_Not_Capuchinbird_Clips/pheasant-sound-2.wav  \n",
            "  inflating: Parsed_Not_Capuchinbird_Clips/pheasant-sound-3.wav  \n",
            "  inflating: Parsed_Not_Capuchinbird_Clips/pond-bird-call-sound-effect-0.wav  \n",
            "  inflating: Parsed_Not_Capuchinbird_Clips/rain-thunder-and-crickets-sound-effect-0.wav  \n",
            "  inflating: Parsed_Not_Capuchinbird_Clips/rain-thunder-and-crickets-sound-effect-1.wav  \n",
            "  inflating: Parsed_Not_Capuchinbird_Clips/rain-thunder-and-crickets-sound-effect-10.wav  \n",
            "  inflating: Parsed_Not_Capuchinbird_Clips/rain-thunder-and-crickets-sound-effect-11.wav  \n",
            "  inflating: Parsed_Not_Capuchinbird_Clips/rain-thunder-and-crickets-sound-effect-12.wav  \n",
            "  inflating: Parsed_Not_Capuchinbird_Clips/rain-thunder-and-crickets-sound-effect-13.wav  \n",
            "  inflating: Parsed_Not_Capuchinbird_Clips/rain-thunder-and-crickets-sound-effect-14.wav  \n",
            "  inflating: Parsed_Not_Capuchinbird_Clips/rain-thunder-and-crickets-sound-effect-15.wav  \n",
            "  inflating: Parsed_Not_Capuchinbird_Clips/rain-thunder-and-crickets-sound-effect-16.wav  \n",
            "  inflating: Parsed_Not_Capuchinbird_Clips/rain-thunder-and-crickets-sound-effect-17.wav  \n",
            "  inflating: Parsed_Not_Capuchinbird_Clips/rain-thunder-and-crickets-sound-effect-18.wav  \n",
            "  inflating: Parsed_Not_Capuchinbird_Clips/rain-thunder-and-crickets-sound-effect-19.wav  \n",
            "  inflating: Parsed_Not_Capuchinbird_Clips/rain-thunder-and-crickets-sound-effect-2.wav  \n",
            "  inflating: Parsed_Not_Capuchinbird_Clips/rain-thunder-and-crickets-sound-effect-20.wav  \n",
            "  inflating: Parsed_Not_Capuchinbird_Clips/rain-thunder-and-crickets-sound-effect-21.wav  \n",
            "  inflating: Parsed_Not_Capuchinbird_Clips/rain-thunder-and-crickets-sound-effect-22.wav  \n",
            "  inflating: Parsed_Not_Capuchinbird_Clips/rain-thunder-and-crickets-sound-effect-23.wav  \n",
            "  inflating: Parsed_Not_Capuchinbird_Clips/rain-thunder-and-crickets-sound-effect-24.wav  \n",
            "  inflating: Parsed_Not_Capuchinbird_Clips/rain-thunder-and-crickets-sound-effect-25.wav  \n",
            "  inflating: Parsed_Not_Capuchinbird_Clips/rain-thunder-and-crickets-sound-effect-26.wav  \n",
            "  inflating: Parsed_Not_Capuchinbird_Clips/rain-thunder-and-crickets-sound-effect-27.wav  \n",
            "  inflating: Parsed_Not_Capuchinbird_Clips/rain-thunder-and-crickets-sound-effect-28.wav  \n",
            "  inflating: Parsed_Not_Capuchinbird_Clips/rain-thunder-and-crickets-sound-effect-29.wav  \n",
            "  inflating: Parsed_Not_Capuchinbird_Clips/rain-thunder-and-crickets-sound-effect-3.wav  \n",
            "  inflating: Parsed_Not_Capuchinbird_Clips/rain-thunder-and-crickets-sound-effect-30.wav  \n",
            "  inflating: Parsed_Not_Capuchinbird_Clips/rain-thunder-and-crickets-sound-effect-31.wav  \n",
            "  inflating: Parsed_Not_Capuchinbird_Clips/rain-thunder-and-crickets-sound-effect-32.wav  \n",
            "  inflating: Parsed_Not_Capuchinbird_Clips/rain-thunder-and-crickets-sound-effect-33.wav  \n",
            "  inflating: Parsed_Not_Capuchinbird_Clips/rain-thunder-and-crickets-sound-effect-34.wav  \n",
            "  inflating: Parsed_Not_Capuchinbird_Clips/rain-thunder-and-crickets-sound-effect-35.wav  \n",
            "  inflating: Parsed_Not_Capuchinbird_Clips/rain-thunder-and-crickets-sound-effect-36.wav  \n",
            "  inflating: Parsed_Not_Capuchinbird_Clips/rain-thunder-and-crickets-sound-effect-37.wav  \n",
            "  inflating: Parsed_Not_Capuchinbird_Clips/rain-thunder-and-crickets-sound-effect-38.wav  \n",
            "  inflating: Parsed_Not_Capuchinbird_Clips/rain-thunder-and-crickets-sound-effect-39.wav  \n",
            "  inflating: Parsed_Not_Capuchinbird_Clips/rain-thunder-and-crickets-sound-effect-4.wav  \n",
            "  inflating: Parsed_Not_Capuchinbird_Clips/rain-thunder-and-crickets-sound-effect-40.wav  \n",
            "  inflating: Parsed_Not_Capuchinbird_Clips/rain-thunder-and-crickets-sound-effect-41.wav  \n",
            "  inflating: Parsed_Not_Capuchinbird_Clips/rain-thunder-and-crickets-sound-effect-42.wav  \n",
            "  inflating: Parsed_Not_Capuchinbird_Clips/rain-thunder-and-crickets-sound-effect-43.wav  \n",
            "  inflating: Parsed_Not_Capuchinbird_Clips/rain-thunder-and-crickets-sound-effect-44.wav  \n",
            "  inflating: Parsed_Not_Capuchinbird_Clips/rain-thunder-and-crickets-sound-effect-45.wav  \n",
            "  inflating: Parsed_Not_Capuchinbird_Clips/rain-thunder-and-crickets-sound-effect-46.wav  \n",
            "  inflating: Parsed_Not_Capuchinbird_Clips/rain-thunder-and-crickets-sound-effect-47.wav  \n",
            "  inflating: Parsed_Not_Capuchinbird_Clips/rain-thunder-and-crickets-sound-effect-5.wav  \n",
            "  inflating: Parsed_Not_Capuchinbird_Clips/rain-thunder-and-crickets-sound-effect-6.wav  \n",
            "  inflating: Parsed_Not_Capuchinbird_Clips/rain-thunder-and-crickets-sound-effect-7.wav  \n",
            "  inflating: Parsed_Not_Capuchinbird_Clips/rain-thunder-and-crickets-sound-effect-8.wav  \n",
            "  inflating: Parsed_Not_Capuchinbird_Clips/rain-thunder-and-crickets-sound-effect-9.wav  \n",
            "  inflating: Parsed_Not_Capuchinbird_Clips/robin-chirping-0.wav  \n",
            "  inflating: Parsed_Not_Capuchinbird_Clips/robin-chirping-1.wav  \n",
            "  inflating: Parsed_Not_Capuchinbird_Clips/robin-chirping-10.wav  \n",
            "  inflating: Parsed_Not_Capuchinbird_Clips/robin-chirping-11.wav  \n",
            "  inflating: Parsed_Not_Capuchinbird_Clips/robin-chirping-12.wav  \n",
            "  inflating: Parsed_Not_Capuchinbird_Clips/robin-chirping-13.wav  \n",
            "  inflating: Parsed_Not_Capuchinbird_Clips/robin-chirping-14.wav  \n",
            "  inflating: Parsed_Not_Capuchinbird_Clips/robin-chirping-15.wav  \n",
            "  inflating: Parsed_Not_Capuchinbird_Clips/robin-chirping-16.wav  \n",
            "  inflating: Parsed_Not_Capuchinbird_Clips/robin-chirping-17.wav  \n",
            "  inflating: Parsed_Not_Capuchinbird_Clips/robin-chirping-18.wav  \n",
            "  inflating: Parsed_Not_Capuchinbird_Clips/robin-chirping-19.wav  \n",
            "  inflating: Parsed_Not_Capuchinbird_Clips/robin-chirping-2.wav  \n",
            "  inflating: Parsed_Not_Capuchinbird_Clips/robin-chirping-20.wav  \n",
            "  inflating: Parsed_Not_Capuchinbird_Clips/robin-chirping-21.wav  \n",
            "  inflating: Parsed_Not_Capuchinbird_Clips/robin-chirping-22.wav  \n",
            "  inflating: Parsed_Not_Capuchinbird_Clips/robin-chirping-23.wav  \n",
            "  inflating: Parsed_Not_Capuchinbird_Clips/robin-chirping-24.wav  \n",
            "  inflating: Parsed_Not_Capuchinbird_Clips/robin-chirping-25.wav  \n",
            "  inflating: Parsed_Not_Capuchinbird_Clips/robin-chirping-26.wav  \n",
            "  inflating: Parsed_Not_Capuchinbird_Clips/robin-chirping-27.wav  \n",
            "  inflating: Parsed_Not_Capuchinbird_Clips/robin-chirping-28.wav  \n",
            "  inflating: Parsed_Not_Capuchinbird_Clips/robin-chirping-29.wav  \n",
            "  inflating: Parsed_Not_Capuchinbird_Clips/robin-chirping-3.wav  \n",
            "  inflating: Parsed_Not_Capuchinbird_Clips/robin-chirping-30.wav  \n",
            "  inflating: Parsed_Not_Capuchinbird_Clips/robin-chirping-31.wav  \n",
            "  inflating: Parsed_Not_Capuchinbird_Clips/robin-chirping-32.wav  \n",
            "  inflating: Parsed_Not_Capuchinbird_Clips/robin-chirping-33.wav  \n",
            "  inflating: Parsed_Not_Capuchinbird_Clips/robin-chirping-4.wav  \n",
            "  inflating: Parsed_Not_Capuchinbird_Clips/robin-chirping-5.wav  \n",
            "  inflating: Parsed_Not_Capuchinbird_Clips/robin-chirping-6.wav  \n",
            "  inflating: Parsed_Not_Capuchinbird_Clips/robin-chirping-7.wav  \n",
            "  inflating: Parsed_Not_Capuchinbird_Clips/robin-chirping-8.wav  \n",
            "  inflating: Parsed_Not_Capuchinbird_Clips/robin-chirping-9.wav  \n",
            "  inflating: Parsed_Not_Capuchinbird_Clips/rooster-call-sound-0.wav  \n",
            "  inflating: Parsed_Not_Capuchinbird_Clips/screech-owl-sounds-at-night-0.wav  \n",
            "  inflating: Parsed_Not_Capuchinbird_Clips/screech-owl-sounds-at-night-1.wav  \n",
            "  inflating: Parsed_Not_Capuchinbird_Clips/screech-owl-sounds-at-night-2.wav  \n",
            "  inflating: Parsed_Not_Capuchinbird_Clips/screech-owl-sounds-at-night-3.wav  \n",
            "  inflating: Parsed_Not_Capuchinbird_Clips/screech-owl-sounds-at-night-4.wav  \n",
            "  inflating: Parsed_Not_Capuchinbird_Clips/screech-owl-sounds-at-night-5.wav  \n",
            "  inflating: Parsed_Not_Capuchinbird_Clips/screech-owl-sounds-at-night-6.wav  \n",
            "  inflating: Parsed_Not_Capuchinbird_Clips/screech-owl-sounds-at-night-7.wav  \n",
            "  inflating: Parsed_Not_Capuchinbird_Clips/seagull-sound-in-distance-0.wav  \n",
            "  inflating: Parsed_Not_Capuchinbird_Clips/seagull-sound-in-distance-1.wav  \n",
            "  inflating: Parsed_Not_Capuchinbird_Clips/sparrow-sound-effect-0.wav  \n",
            "  inflating: Parsed_Not_Capuchinbird_Clips/sparrow-sound-effect-1.wav  \n",
            "  inflating: Parsed_Not_Capuchinbird_Clips/sparrow-sound-effect-10.wav  \n",
            "  inflating: Parsed_Not_Capuchinbird_Clips/sparrow-sound-effect-11.wav  \n",
            "  inflating: Parsed_Not_Capuchinbird_Clips/sparrow-sound-effect-12.wav  \n",
            "  inflating: Parsed_Not_Capuchinbird_Clips/sparrow-sound-effect-13.wav  \n",
            "  inflating: Parsed_Not_Capuchinbird_Clips/sparrow-sound-effect-14.wav  \n",
            "  inflating: Parsed_Not_Capuchinbird_Clips/sparrow-sound-effect-15.wav  \n",
            "  inflating: Parsed_Not_Capuchinbird_Clips/sparrow-sound-effect-16.wav  \n",
            "  inflating: Parsed_Not_Capuchinbird_Clips/sparrow-sound-effect-17.wav  \n",
            "  inflating: Parsed_Not_Capuchinbird_Clips/sparrow-sound-effect-18.wav  \n",
            "  inflating: Parsed_Not_Capuchinbird_Clips/sparrow-sound-effect-19.wav  \n",
            "  inflating: Parsed_Not_Capuchinbird_Clips/sparrow-sound-effect-2.wav  \n",
            "  inflating: Parsed_Not_Capuchinbird_Clips/sparrow-sound-effect-20.wav  \n",
            "  inflating: Parsed_Not_Capuchinbird_Clips/sparrow-sound-effect-21.wav  \n",
            "  inflating: Parsed_Not_Capuchinbird_Clips/sparrow-sound-effect-22.wav  \n",
            "  inflating: Parsed_Not_Capuchinbird_Clips/sparrow-sound-effect-23.wav  \n",
            "  inflating: Parsed_Not_Capuchinbird_Clips/sparrow-sound-effect-24.wav  \n",
            "  inflating: Parsed_Not_Capuchinbird_Clips/sparrow-sound-effect-25.wav  \n",
            "  inflating: Parsed_Not_Capuchinbird_Clips/sparrow-sound-effect-26.wav  \n",
            "  inflating: Parsed_Not_Capuchinbird_Clips/sparrow-sound-effect-27.wav  \n",
            "  inflating: Parsed_Not_Capuchinbird_Clips/sparrow-sound-effect-28.wav  \n",
            "  inflating: Parsed_Not_Capuchinbird_Clips/sparrow-sound-effect-29.wav  \n",
            "  inflating: Parsed_Not_Capuchinbird_Clips/sparrow-sound-effect-3.wav  \n",
            "  inflating: Parsed_Not_Capuchinbird_Clips/sparrow-sound-effect-30.wav  \n",
            "  inflating: Parsed_Not_Capuchinbird_Clips/sparrow-sound-effect-31.wav  \n",
            "  inflating: Parsed_Not_Capuchinbird_Clips/sparrow-sound-effect-32.wav  \n",
            "  inflating: Parsed_Not_Capuchinbird_Clips/sparrow-sound-effect-33.wav  \n",
            "  inflating: Parsed_Not_Capuchinbird_Clips/sparrow-sound-effect-34.wav  \n",
            "  inflating: Parsed_Not_Capuchinbird_Clips/sparrow-sound-effect-35.wav  \n",
            "  inflating: Parsed_Not_Capuchinbird_Clips/sparrow-sound-effect-36.wav  \n",
            "  inflating: Parsed_Not_Capuchinbird_Clips/sparrow-sound-effect-37.wav  \n",
            "  inflating: Parsed_Not_Capuchinbird_Clips/sparrow-sound-effect-38.wav  \n",
            "  inflating: Parsed_Not_Capuchinbird_Clips/sparrow-sound-effect-39.wav  \n",
            "  inflating: Parsed_Not_Capuchinbird_Clips/sparrow-sound-effect-4.wav  \n",
            "  inflating: Parsed_Not_Capuchinbird_Clips/sparrow-sound-effect-40.wav  \n",
            "  inflating: Parsed_Not_Capuchinbird_Clips/sparrow-sound-effect-41.wav  \n",
            "  inflating: Parsed_Not_Capuchinbird_Clips/sparrow-sound-effect-42.wav  \n",
            "  inflating: Parsed_Not_Capuchinbird_Clips/sparrow-sound-effect-43.wav  \n",
            "  inflating: Parsed_Not_Capuchinbird_Clips/sparrow-sound-effect-44.wav  \n",
            "  inflating: Parsed_Not_Capuchinbird_Clips/sparrow-sound-effect-45.wav  \n",
            "  inflating: Parsed_Not_Capuchinbird_Clips/sparrow-sound-effect-46.wav  \n",
            "  inflating: Parsed_Not_Capuchinbird_Clips/sparrow-sound-effect-47.wav  \n",
            "  inflating: Parsed_Not_Capuchinbird_Clips/sparrow-sound-effect-48.wav  \n",
            "  inflating: Parsed_Not_Capuchinbird_Clips/sparrow-sound-effect-49.wav  \n",
            "  inflating: Parsed_Not_Capuchinbird_Clips/sparrow-sound-effect-5.wav  \n",
            "  inflating: Parsed_Not_Capuchinbird_Clips/sparrow-sound-effect-50.wav  \n",
            "  inflating: Parsed_Not_Capuchinbird_Clips/sparrow-sound-effect-51.wav  \n",
            "  inflating: Parsed_Not_Capuchinbird_Clips/sparrow-sound-effect-6.wav  \n",
            "  inflating: Parsed_Not_Capuchinbird_Clips/sparrow-sound-effect-7.wav  \n",
            "  inflating: Parsed_Not_Capuchinbird_Clips/sparrow-sound-effect-8.wav  \n",
            "  inflating: Parsed_Not_Capuchinbird_Clips/sparrow-sound-effect-9.wav  \n",
            "  inflating: Parsed_Not_Capuchinbird_Clips/spooky-owl-sound-effect-0.wav  \n",
            "  inflating: Parsed_Not_Capuchinbird_Clips/tawny-owl-sounds-0.wav  \n",
            "  inflating: Parsed_Not_Capuchinbird_Clips/tawny-owl-sounds-1.wav  \n",
            "  inflating: Parsed_Not_Capuchinbird_Clips/tawny-owl-sounds-2.wav  \n",
            "  inflating: Parsed_Not_Capuchinbird_Clips/tawny-owl-sounds-3.wav  \n",
            "  inflating: Parsed_Not_Capuchinbird_Clips/tawny-owl-sounds-4.wav  \n",
            "  inflating: Parsed_Not_Capuchinbird_Clips/tawny-owl-sounds-5.wav  \n",
            "  inflating: Parsed_Not_Capuchinbird_Clips/tawny-owl-sounds-6.wav  \n",
            "  inflating: Parsed_Not_Capuchinbird_Clips/tawny-owl-sounds-7.wav  \n",
            "  inflating: Parsed_Not_Capuchinbird_Clips/tawny-owl-sounds-8.wav  \n",
            "  inflating: Parsed_Not_Capuchinbird_Clips/tawny-owl-sounds-9.wav  \n"
          ]
        }
      ]
    },
    {
      "cell_type": "markdown",
      "source": [
        "# Import and Installing of dependencies\n"
      ],
      "metadata": {
        "id": "FlR5QSPXZtUC"
      }
    },
    {
      "cell_type": "code",
      "source": [
        "!pip install tensorflow.gpu tensorflow.io"
      ],
      "metadata": {
        "colab": {
          "base_uri": "https://localhost:8080/"
        },
        "id": "8wqUOFPvNq5W",
        "outputId": "a840cbdf-ce40-4752-f863-4b503bd01930"
      },
      "execution_count": 7,
      "outputs": [
        {
          "output_type": "stream",
          "name": "stdout",
          "text": [
            "Collecting tensorflow.gpu\n",
            "  Downloading tensorflow_gpu-2.8.0-cp37-cp37m-manylinux2010_x86_64.whl (497.5 MB)\n",
            "\u001b[K     |████████████████████████████████| 497.5 MB 20 kB/s \n",
            "\u001b[?25hCollecting tensorflow.io\n",
            "  Downloading tensorflow_io-0.24.0-cp37-cp37m-manylinux_2_12_x86_64.manylinux2010_x86_64.whl (23.4 MB)\n",
            "\u001b[K     |████████████████████████████████| 23.4 MB 1.6 MB/s \n",
            "\u001b[?25hRequirement already satisfied: gast>=0.2.1 in /usr/local/lib/python3.7/dist-packages (from tensorflow.gpu) (0.5.3)\n",
            "Requirement already satisfied: flatbuffers>=1.12 in /usr/local/lib/python3.7/dist-packages (from tensorflow.gpu) (2.0)\n",
            "Requirement already satisfied: protobuf>=3.9.2 in /usr/local/lib/python3.7/dist-packages (from tensorflow.gpu) (3.17.3)\n",
            "Requirement already satisfied: absl-py>=0.4.0 in /usr/local/lib/python3.7/dist-packages (from tensorflow.gpu) (1.0.0)\n",
            "Requirement already satisfied: numpy>=1.20 in /usr/local/lib/python3.7/dist-packages (from tensorflow.gpu) (1.21.6)\n",
            "Requirement already satisfied: typing-extensions>=3.6.6 in /usr/local/lib/python3.7/dist-packages (from tensorflow.gpu) (4.1.1)\n",
            "Requirement already satisfied: grpcio<2.0,>=1.24.3 in /usr/local/lib/python3.7/dist-packages (from tensorflow.gpu) (1.44.0)\n",
            "Requirement already satisfied: wrapt>=1.11.0 in /usr/local/lib/python3.7/dist-packages (from tensorflow.gpu) (1.14.0)\n",
            "Requirement already satisfied: setuptools in /usr/local/lib/python3.7/dist-packages (from tensorflow.gpu) (57.4.0)\n",
            "Requirement already satisfied: termcolor>=1.1.0 in /usr/local/lib/python3.7/dist-packages (from tensorflow.gpu) (1.1.0)\n",
            "Requirement already satisfied: tensorflow-io-gcs-filesystem>=0.23.1 in /usr/local/lib/python3.7/dist-packages (from tensorflow.gpu) (0.24.0)\n",
            "Requirement already satisfied: google-pasta>=0.1.1 in /usr/local/lib/python3.7/dist-packages (from tensorflow.gpu) (0.2.0)\n",
            "Requirement already satisfied: libclang>=9.0.1 in /usr/local/lib/python3.7/dist-packages (from tensorflow.gpu) (13.0.0)\n",
            "Requirement already satisfied: keras<2.9,>=2.8.0rc0 in /usr/local/lib/python3.7/dist-packages (from tensorflow.gpu) (2.8.0)\n",
            "Requirement already satisfied: h5py>=2.9.0 in /usr/local/lib/python3.7/dist-packages (from tensorflow.gpu) (3.1.0)\n",
            "Collecting tf-estimator-nightly==2.8.0.dev2021122109\n",
            "  Downloading tf_estimator_nightly-2.8.0.dev2021122109-py2.py3-none-any.whl (462 kB)\n",
            "\u001b[K     |████████████████████████████████| 462 kB 54.7 MB/s \n",
            "\u001b[?25hRequirement already satisfied: astunparse>=1.6.0 in /usr/local/lib/python3.7/dist-packages (from tensorflow.gpu) (1.6.3)\n",
            "Requirement already satisfied: keras-preprocessing>=1.1.1 in /usr/local/lib/python3.7/dist-packages (from tensorflow.gpu) (1.1.2)\n",
            "Requirement already satisfied: opt-einsum>=2.3.2 in /usr/local/lib/python3.7/dist-packages (from tensorflow.gpu) (3.3.0)\n",
            "Requirement already satisfied: tensorboard<2.9,>=2.8 in /usr/local/lib/python3.7/dist-packages (from tensorflow.gpu) (2.8.0)\n",
            "Requirement already satisfied: six>=1.12.0 in /usr/local/lib/python3.7/dist-packages (from tensorflow.gpu) (1.15.0)\n",
            "Requirement already satisfied: wheel<1.0,>=0.23.0 in /usr/local/lib/python3.7/dist-packages (from astunparse>=1.6.0->tensorflow.gpu) (0.37.1)\n",
            "Requirement already satisfied: cached-property in /usr/local/lib/python3.7/dist-packages (from h5py>=2.9.0->tensorflow.gpu) (1.5.2)\n",
            "Requirement already satisfied: tensorboard-data-server<0.7.0,>=0.6.0 in /usr/local/lib/python3.7/dist-packages (from tensorboard<2.9,>=2.8->tensorflow.gpu) (0.6.1)\n",
            "Requirement already satisfied: google-auth<3,>=1.6.3 in /usr/local/lib/python3.7/dist-packages (from tensorboard<2.9,>=2.8->tensorflow.gpu) (1.35.0)\n",
            "Requirement already satisfied: google-auth-oauthlib<0.5,>=0.4.1 in /usr/local/lib/python3.7/dist-packages (from tensorboard<2.9,>=2.8->tensorflow.gpu) (0.4.6)\n",
            "Requirement already satisfied: requests<3,>=2.21.0 in /usr/local/lib/python3.7/dist-packages (from tensorboard<2.9,>=2.8->tensorflow.gpu) (2.23.0)\n",
            "Requirement already satisfied: tensorboard-plugin-wit>=1.6.0 in /usr/local/lib/python3.7/dist-packages (from tensorboard<2.9,>=2.8->tensorflow.gpu) (1.8.1)\n",
            "Requirement already satisfied: werkzeug>=0.11.15 in /usr/local/lib/python3.7/dist-packages (from tensorboard<2.9,>=2.8->tensorflow.gpu) (1.0.1)\n",
            "Requirement already satisfied: markdown>=2.6.8 in /usr/local/lib/python3.7/dist-packages (from tensorboard<2.9,>=2.8->tensorflow.gpu) (3.3.6)\n",
            "Requirement already satisfied: pyasn1-modules>=0.2.1 in /usr/local/lib/python3.7/dist-packages (from google-auth<3,>=1.6.3->tensorboard<2.9,>=2.8->tensorflow.gpu) (0.2.8)\n",
            "Requirement already satisfied: cachetools<5.0,>=2.0.0 in /usr/local/lib/python3.7/dist-packages (from google-auth<3,>=1.6.3->tensorboard<2.9,>=2.8->tensorflow.gpu) (4.2.4)\n",
            "Requirement already satisfied: rsa<5,>=3.1.4 in /usr/local/lib/python3.7/dist-packages (from google-auth<3,>=1.6.3->tensorboard<2.9,>=2.8->tensorflow.gpu) (4.8)\n",
            "Requirement already satisfied: requests-oauthlib>=0.7.0 in /usr/local/lib/python3.7/dist-packages (from google-auth-oauthlib<0.5,>=0.4.1->tensorboard<2.9,>=2.8->tensorflow.gpu) (1.3.1)\n",
            "Requirement already satisfied: importlib-metadata>=4.4 in /usr/local/lib/python3.7/dist-packages (from markdown>=2.6.8->tensorboard<2.9,>=2.8->tensorflow.gpu) (4.11.3)\n",
            "Requirement already satisfied: zipp>=0.5 in /usr/local/lib/python3.7/dist-packages (from importlib-metadata>=4.4->markdown>=2.6.8->tensorboard<2.9,>=2.8->tensorflow.gpu) (3.8.0)\n",
            "Requirement already satisfied: pyasn1<0.5.0,>=0.4.6 in /usr/local/lib/python3.7/dist-packages (from pyasn1-modules>=0.2.1->google-auth<3,>=1.6.3->tensorboard<2.9,>=2.8->tensorflow.gpu) (0.4.8)\n",
            "Requirement already satisfied: idna<3,>=2.5 in /usr/local/lib/python3.7/dist-packages (from requests<3,>=2.21.0->tensorboard<2.9,>=2.8->tensorflow.gpu) (2.10)\n",
            "Requirement already satisfied: urllib3!=1.25.0,!=1.25.1,<1.26,>=1.21.1 in /usr/local/lib/python3.7/dist-packages (from requests<3,>=2.21.0->tensorboard<2.9,>=2.8->tensorflow.gpu) (1.24.3)\n",
            "Requirement already satisfied: certifi>=2017.4.17 in /usr/local/lib/python3.7/dist-packages (from requests<3,>=2.21.0->tensorboard<2.9,>=2.8->tensorflow.gpu) (2021.10.8)\n",
            "Requirement already satisfied: chardet<4,>=3.0.2 in /usr/local/lib/python3.7/dist-packages (from requests<3,>=2.21.0->tensorboard<2.9,>=2.8->tensorflow.gpu) (3.0.4)\n",
            "Requirement already satisfied: oauthlib>=3.0.0 in /usr/local/lib/python3.7/dist-packages (from requests-oauthlib>=0.7.0->google-auth-oauthlib<0.5,>=0.4.1->tensorboard<2.9,>=2.8->tensorflow.gpu) (3.2.0)\n",
            "Installing collected packages: tf-estimator-nightly, tensorflow.io, tensorflow.gpu\n",
            "Successfully installed tensorflow.gpu-2.8.0 tensorflow.io-0.24.0 tf-estimator-nightly-2.8.0.dev2021122109\n"
          ]
        }
      ]
    },
    {
      "cell_type": "code",
      "source": [
        "import os\n",
        "import matplotlib.pyplot as plt\n",
        "import tensorflow as tf\n",
        "import tensorflow_io as tfio\n",
        "\n"
      ],
      "metadata": {
        "id": "BG3CR5R0Nq8A"
      },
      "execution_count": 8,
      "outputs": []
    },
    {
      "cell_type": "code",
      "source": [
        "capuchin_file= os.path.join('Parsed_Capuchinbird_Clips','XC114131-1.wav')\n",
        "not_capuchin_file= os.path.join( 'Parsed_Not_Capuchinbird_Clips', 'Crickets-chirping-1.wav')"
      ],
      "metadata": {
        "id": "68zHa3gkNq_c"
      },
      "execution_count": 9,
      "outputs": []
    },
    {
      "cell_type": "code",
      "source": [
        "\n",
        "capuchin_file"
      ],
      "metadata": {
        "colab": {
          "base_uri": "https://localhost:8080/",
          "height": 35
        },
        "id": "b8sUWVGbbJVH",
        "outputId": "b9749540-4650-447f-c02f-d6aec0aec311"
      },
      "execution_count": 10,
      "outputs": [
        {
          "output_type": "execute_result",
          "data": {
            "text/plain": [
              "'Parsed_Capuchinbird_Clips/XC114131-1.wav'"
            ],
            "application/vnd.google.colaboratory.intrinsic+json": {
              "type": "string"
            }
          },
          "metadata": {},
          "execution_count": 10
        }
      ]
    },
    {
      "cell_type": "code",
      "source": [
        "def load_wav_16k(filename):\n",
        "  file_contents= tf.io.read_file(filename)\n",
        "  wav, sample_rate= tf.audio.decode_wav(file_contents, desired_channels=1)\n",
        "  wav= tf.squeeze(wav, axis=-1)\n",
        "  sample_rate= tf.cast(sample_rate, dtype=tf.int64)\n",
        "  wav= tfio.audio.resample(wav, rate_in=sample_rate, rate_out=1600)\n",
        "  return wav\n"
      ],
      "metadata": {
        "id": "sfGn-xVTbJX5"
      },
      "execution_count": 11,
      "outputs": []
    },
    {
      "cell_type": "code",
      "source": [
        "wave= load_wav_16k(capuchin_file)\n",
        "nwave= load_wav_16k(not_capuchin_file)"
      ],
      "metadata": {
        "id": "lraxvWeibJaY"
      },
      "execution_count": 12,
      "outputs": []
    },
    {
      "cell_type": "code",
      "source": [
        "\n",
        "plt.plot(wave)\n",
        "plt.plot(nwave)\n",
        "plt.show()"
      ],
      "metadata": {
        "colab": {
          "base_uri": "https://localhost:8080/",
          "height": 265
        },
        "id": "mjnTh0OMbJff",
        "outputId": "1cdf7020-291c-4689-8df6-a99013d3e696"
      },
      "execution_count": 13,
      "outputs": [
        {
          "output_type": "display_data",
          "data": {
            "text/plain": [
              "<Figure size 432x288 with 1 Axes>"
            ],
            "image/png": "[encoded data removed]"
          },
          "metadata": {
            "needs_background": "light"
          }
        }
      ]
    },
    {
      "cell_type": "code",
      "source": [
        "pos= os.path.join ('Parsed_Capuchinbird_Clips')\n",
        "neg= os.path.join('Parsed_Not_Capuchinbird_Clips')"
      ],
      "metadata": {
        "id": "X1kIQ4apbJhr"
      },
      "execution_count": 14,
      "outputs": []
    },
    {
      "cell_type": "code",
      "source": [
        "positive= tf.data.Dataset.list_files('Parsed_Capuchinbird_Clips/*.wav')\n",
        "negative= tf.data.Dataset.list_files('Parsed_Not_Capuchinbird_Clips/*.wav') "
      ],
      "metadata": {
        "id": "_rSVhaQ34YX5"
      },
      "execution_count": 15,
      "outputs": []
    },
    {
      "cell_type": "code",
      "source": [
        "positive.as_numpy_iterator().next()"
      ],
      "metadata": {
        "colab": {
          "base_uri": "https://localhost:8080/"
        },
        "id": "dGXsUv374YaY",
        "outputId": "63e85ea1-a76f-4273-ac09-530a25e75ae0"
      },
      "execution_count": 16,
      "outputs": [
        {
          "output_type": "execute_result",
          "data": {
            "text/plain": [
              "b'Parsed_Capuchinbird_Clips/XC98557-0.wav'"
            ]
          },
          "metadata": {},
          "execution_count": 16
        }
      ]
    },
    {
      "cell_type": "code",
      "source": [
        "positives= tf.data.Dataset.zip((positive, tf.data.Dataset.from_tensor_slices(tf.ones(len(positive)))))\n",
        "negatives= tf.data.Dataset.zip((negative, tf.data.Dataset.from_tensor_slices(tf.zeros(len(positive)))))\n",
        "data= positives.concatenate(negatives)"
      ],
      "metadata": {
        "id": "7cJj1EKEiOl3"
      },
      "execution_count": 17,
      "outputs": []
    },
    {
      "cell_type": "markdown",
      "source": [
        ""
      ],
      "metadata": {
        "id": "2psGHrG5iPGa"
      }
    },
    {
      "cell_type": "code",
      "source": [
        "positives.as_numpy_iterator().next()"
      ],
      "metadata": {
        "colab": {
          "base_uri": "https://localhost:8080/"
        },
        "id": "rQAT8kjY4YdC",
        "outputId": "bfd2077e-412a-48dc-ac3e-117b6f9f9e2f"
      },
      "execution_count": 18,
      "outputs": [
        {
          "output_type": "execute_result",
          "data": {
            "text/plain": [
              "(b'Parsed_Capuchinbird_Clips/XC27881-3.wav', 1.0)"
            ]
          },
          "metadata": {},
          "execution_count": 18
        }
      ]
    },
    {
      "cell_type": "code",
      "source": [
        "data.shuffle(1000).as_numpy_iterator().next()"
      ],
      "metadata": {
        "colab": {
          "base_uri": "https://localhost:8080/"
        },
        "id": "gs-9UyDy4Ygh",
        "outputId": "a7598a89-3f76-467d-c754-e51772bfd317"
      },
      "execution_count": 19,
      "outputs": [
        {
          "output_type": "execute_result",
          "data": {
            "text/plain": [
              "(b'Parsed_Not_Capuchinbird_Clips/cricket-sounds-for-sleep-32.wav', 0.0)"
            ]
          },
          "metadata": {},
          "execution_count": 19
        }
      ]
    },
    {
      "cell_type": "code",
      "source": [
        "lengths = []\n",
        "for file in os.listdir(os.path.join('Parsed_Capuchinbird_Clips')):\n",
        "    tensor_wave = load_wav_16k(os.path.join( 'Parsed_Capuchinbird_Clips', file))\n",
        "    lengths.append(len(tensor_wave))"
      ],
      "metadata": {
        "colab": {
          "base_uri": "https://localhost:8080/"
        },
        "id": "JplDPS-s4Yj6",
        "outputId": "94214619-f70b-462d-9c15-82a23138ab83"
      },
      "execution_count": 20,
      "outputs": [
        {
          "output_type": "stream",
          "name": "stdout",
          "text": [
            "WARNING:tensorflow:5 out of the last 5 calls to <function pfor.<locals>.f at 0x7fefbd9908c0> triggered tf.function retracing. Tracing is expensive and the excessive number of tracings could be due to (1) creating @tf.function repeatedly in a loop, (2) passing tensors with different shapes, (3) passing Python objects instead of tensors. For (1), please define your @tf.function outside of the loop. For (2), @tf.function has experimental_relax_shapes=True option that relaxes argument shapes that can avoid unnecessary retracing. For (3), please refer to https://www.tensorflow.org/guide/function#controlling_retracing and https://www.tensorflow.org/api_docs/python/tf/function for  more details.\n",
            "WARNING:tensorflow:6 out of the last 6 calls to <function pfor.<locals>.f at 0x7fefbd990710> triggered tf.function retracing. Tracing is expensive and the excessive number of tracings could be due to (1) creating @tf.function repeatedly in a loop, (2) passing tensors with different shapes, (3) passing Python objects instead of tensors. For (1), please define your @tf.function outside of the loop. For (2), @tf.function has experimental_relax_shapes=True option that relaxes argument shapes that can avoid unnecessary retracing. For (3), please refer to https://www.tensorflow.org/guide/function#controlling_retracing and https://www.tensorflow.org/api_docs/python/tf/function for  more details.\n"
          ]
        }
      ]
    },
    {
      "cell_type": "code",
      "source": [
        "lengths"
      ],
      "metadata": {
        "id": "EZTfz1gTbJjs",
        "colab": {
          "base_uri": "https://localhost:8080/"
        },
        "outputId": "26ef5937-9c8d-4443-d29a-d6a452d18d66"
      },
      "execution_count": 21,
      "outputs": [
        {
          "output_type": "execute_result",
          "data": {
            "text/plain": [
              "[3999,\n",
              " 6400,\n",
              " 4800,\n",
              " 4800,\n",
              " 5600,\n",
              " 6400,\n",
              " 4000,\n",
              " 5600,\n",
              " 4000,\n",
              " 6400,\n",
              " 4800,\n",
              " 4800,\n",
              " 5600,\n",
              " 4800,\n",
              " 5600,\n",
              " 5600,\n",
              " 5600,\n",
              " 6400,\n",
              " 4800,\n",
              " 4000,\n",
              " 5600,\n",
              " 6400,\n",
              " 4800,\n",
              " 5600,\n",
              " 4000,\n",
              " 4800,\n",
              " 4800,\n",
              " 5600,\n",
              " 5600,\n",
              " 6400,\n",
              " 5600,\n",
              " 5599,\n",
              " 5600,\n",
              " 6400,\n",
              " 5600,\n",
              " 4000,\n",
              " 5600,\n",
              " 4800,\n",
              " 4800,\n",
              " 5600,\n",
              " 4000,\n",
              " 6400,\n",
              " 4800,\n",
              " 5600,\n",
              " 6400,\n",
              " 4800,\n",
              " 4000,\n",
              " 6400,\n",
              " 4800,\n",
              " 7200,\n",
              " 5600,\n",
              " 6400,\n",
              " 6400,\n",
              " 4000,\n",
              " 4800,\n",
              " 6400,\n",
              " 6400,\n",
              " 5600,\n",
              " 4800,\n",
              " 5600,\n",
              " 4800,\n",
              " 5600,\n",
              " 4000,\n",
              " 4800,\n",
              " 5600,\n",
              " 6400,\n",
              " 4800,\n",
              " 4000,\n",
              " 4800,\n",
              " 5600,\n",
              " 5600,\n",
              " 6400,\n",
              " 5600,\n",
              " 5600,\n",
              " 4800,\n",
              " 4800,\n",
              " 4800,\n",
              " 4800,\n",
              " 5600,\n",
              " 5600,\n",
              " 6400,\n",
              " 4800,\n",
              " 5600,\n",
              " 5600,\n",
              " 5600,\n",
              " 5600,\n",
              " 4800,\n",
              " 5599,\n",
              " 7200,\n",
              " 6400,\n",
              " 6400,\n",
              " 5600,\n",
              " 6400,\n",
              " 4800,\n",
              " 4800,\n",
              " 6400,\n",
              " 4800,\n",
              " 3200,\n",
              " 6400,\n",
              " 5600,\n",
              " 4800,\n",
              " 6400,\n",
              " 5600,\n",
              " 5600,\n",
              " 6400,\n",
              " 5600,\n",
              " 6400,\n",
              " 5600,\n",
              " 5600,\n",
              " 6400,\n",
              " 5600,\n",
              " 4800,\n",
              " 5600,\n",
              " 5600,\n",
              " 4800,\n",
              " 6400,\n",
              " 4800,\n",
              " 4800,\n",
              " 4000,\n",
              " 4000,\n",
              " 5600,\n",
              " 5600,\n",
              " 5600,\n",
              " 4000,\n",
              " 4800,\n",
              " 5600,\n",
              " 5600,\n",
              " 5600,\n",
              " 6400,\n",
              " 6400,\n",
              " 6400,\n",
              " 6400,\n",
              " 5600,\n",
              " 6400,\n",
              " 6400,\n",
              " 3200,\n",
              " 4800,\n",
              " 5600,\n",
              " 3200,\n",
              " 5600,\n",
              " 4800,\n",
              " 6400,\n",
              " 4800,\n",
              " 5600,\n",
              " 5600,\n",
              " 4800,\n",
              " 4800,\n",
              " 5600,\n",
              " 5600,\n",
              " 5600,\n",
              " 6400,\n",
              " 4800,\n",
              " 8000,\n",
              " 5600,\n",
              " 5600,\n",
              " 5600,\n",
              " 5600,\n",
              " 4800,\n",
              " 5600,\n",
              " 5600,\n",
              " 4800,\n",
              " 5600,\n",
              " 5600,\n",
              " 6400,\n",
              " 5600,\n",
              " 4800,\n",
              " 6400,\n",
              " 4800,\n",
              " 5600,\n",
              " 5600,\n",
              " 5600,\n",
              " 3200,\n",
              " 5600,\n",
              " 4000,\n",
              " 6400,\n",
              " 7200,\n",
              " 4800,\n",
              " 4800,\n",
              " 5600,\n",
              " 4800,\n",
              " 6400,\n",
              " 5600,\n",
              " 5600,\n",
              " 4800,\n",
              " 7200,\n",
              " 5600,\n",
              " 5600,\n",
              " 5599,\n",
              " 4800,\n",
              " 4000,\n",
              " 4800,\n",
              " 4000,\n",
              " 5600,\n",
              " 6400,\n",
              " 4800,\n",
              " 5600,\n",
              " 5600,\n",
              " 5600,\n",
              " 5600,\n",
              " 4800,\n",
              " 5600,\n",
              " 6400,\n",
              " 4800,\n",
              " 5600,\n",
              " 5600,\n",
              " 4800,\n",
              " 7200,\n",
              " 4800,\n",
              " 5600,\n",
              " 4000,\n",
              " 5600,\n",
              " 4800,\n",
              " 6400,\n",
              " 6400,\n",
              " 5600,\n",
              " 4800,\n",
              " 5600]"
            ]
          },
          "metadata": {},
          "execution_count": 21
        }
      ]
    },
    {
      "cell_type": "code",
      "source": [
        "tf.math.reduce_mean(lengths)"
      ],
      "metadata": {
        "id": "xX6YDR8bbJl4",
        "colab": {
          "base_uri": "https://localhost:8080/"
        },
        "outputId": "fc5ee83e-e979-4386-8dd0-ec10e9d3cb8d"
      },
      "execution_count": 22,
      "outputs": [
        {
          "output_type": "execute_result",
          "data": {
            "text/plain": [
              "<tf.Tensor: shape=(), dtype=int32, numpy=5415>"
            ]
          },
          "metadata": {},
          "execution_count": 22
        }
      ]
    },
    {
      "cell_type": "code",
      "source": [
        "tf.math.reduce_min(lengths)"
      ],
      "metadata": {
        "colab": {
          "base_uri": "https://localhost:8080/"
        },
        "id": "BgIJNR5ZLQl6",
        "outputId": "b36a4b95-955f-4039-d9a4-740208a29e8d"
      },
      "execution_count": 23,
      "outputs": [
        {
          "output_type": "execute_result",
          "data": {
            "text/plain": [
              "<tf.Tensor: shape=(), dtype=int32, numpy=3200>"
            ]
          },
          "metadata": {},
          "execution_count": 23
        }
      ]
    },
    {
      "cell_type": "code",
      "source": [
        "tf.math.reduce_max(lengths)"
      ],
      "metadata": {
        "colab": {
          "base_uri": "https://localhost:8080/"
        },
        "id": "a3HRnChHLQpw",
        "outputId": "57192efb-3d16-4811-880f-7a899d04b160"
      },
      "execution_count": 24,
      "outputs": [
        {
          "output_type": "execute_result",
          "data": {
            "text/plain": [
              "<tf.Tensor: shape=(), dtype=int32, numpy=8000>"
            ]
          },
          "metadata": {},
          "execution_count": 24
        }
      ]
    },
    {
      "cell_type": "code",
      "source": [
        "def preprocess(file_path, label): \n",
        "    wav = load_wav_16k(file_path)\n",
        "    wav = wav[:48000]\n",
        "    zero_padding = tf.zeros([48000] - tf.shape(wav), dtype=tf.float32)\n",
        "    wav = tf.concat([zero_padding, wav],0)\n",
        "    spectrogram = tf.signal.stft(wav, frame_length=320, frame_step=64)\n",
        "    spectrogram = tf.abs(spectrogram)\n",
        "    spectrogram = tf.expand_dims(spectrogram, axis=2)\n",
        "    return spectrogram, label"
      ],
      "metadata": {
        "id": "2P_BFzgULQs8"
      },
      "execution_count": 25,
      "outputs": []
    },
    {
      "cell_type": "code",
      "source": [
        "filepath, label = positives.shuffle(buffer_size=10000).as_numpy_iterator().next()"
      ],
      "metadata": {
        "id": "-5bWgx7HLQv_"
      },
      "execution_count": 26,
      "outputs": []
    },
    {
      "cell_type": "code",
      "source": [
        "spectrogram, label = preprocess(filepath, label)"
      ],
      "metadata": {
        "id": "kA7QYzj-LQyL"
      },
      "execution_count": 27,
      "outputs": []
    },
    {
      "cell_type": "code",
      "source": [
        "plt.figure(figsize=(30,20))\n",
        "plt.imshow(tf.transpose(spectrogram)[0])\n",
        "plt.show()"
      ],
      "metadata": {
        "colab": {
          "base_uri": "https://localhost:8080/",
          "height": 322
        },
        "id": "uBBMXCvgLQ0s",
        "outputId": "64f539cd-9722-4e2b-c829-c2f74a105f78"
      },
      "execution_count": 28,
      "outputs": [
        {
          "output_type": "display_data",
          "data": {
            "text/plain": [
              "<Figure size 2160x1440 with 1 Axes>"
            ],
            "image/png": "[encoded data removed]"
          },
          "metadata": {
            "needs_background": "light"
          }
        }
      ]
    },
    {
      "cell_type": "markdown",
      "source": [
        "#Creating a useable pipeline\n"
      ],
      "metadata": {
        "id": "R7ifpd8l0QAv"
      }
    },
    {
      "cell_type": "code",
      "source": [
        "data= data.map(preprocess)\n",
        "data= data.cache()\n",
        "data= data.shuffle(buffer_size=500)\n",
        "data= data.batch(8)\n",
        "data=data.prefetch(4)"
      ],
      "metadata": {
        "colab": {
          "base_uri": "https://localhost:8080/"
        },
        "id": "g-IyyiMwLQ3R",
        "outputId": "47223a38-8ecb-4308-d3a0-dcd0af17ef6f"
      },
      "execution_count": 29,
      "outputs": [
        {
          "output_type": "stream",
          "name": "stdout",
          "text": [
            "WARNING:tensorflow:Using a while_loop for converting IO>AudioResample\n"
          ]
        }
      ]
    },
    {
      "cell_type": "code",
      "source": [
        "train= data.take(20)\n",
        "test=data.skip(20).take(7)"
      ],
      "metadata": {
        "id": "ZeRoihYTLQ6V"
      },
      "execution_count": 30,
      "outputs": []
    },
    {
      "cell_type": "code",
      "source": [
        "samples, labels= train.as_numpy_iterator().next()\n"
      ],
      "metadata": {
        "id": "Bl_E6YjtbJoD"
      },
      "execution_count": 31,
      "outputs": []
    },
    {
      "cell_type": "code",
      "source": [
        "samples.shape"
      ],
      "metadata": {
        "id": "QZ3KBHBobJra",
        "colab": {
          "base_uri": "https://localhost:8080/"
        },
        "outputId": "94962f1d-4bee-45ba-8798-f83349334a3f"
      },
      "execution_count": 32,
      "outputs": [
        {
          "output_type": "execute_result",
          "data": {
            "text/plain": [
              "(8, 746, 257, 1)"
            ]
          },
          "metadata": {},
          "execution_count": 32
        }
      ]
    },
    {
      "cell_type": "code",
      "source": [
        ""
      ],
      "metadata": {
        "id": "IfxcL1xA2i40"
      },
      "execution_count": 32,
      "outputs": []
    },
    {
      "cell_type": "markdown",
      "source": [
        "#Building the Deep Learning Model"
      ],
      "metadata": {
        "id": "f7lUScB82jnJ"
      }
    },
    {
      "cell_type": "code",
      "source": [
        "from tensorflow.keras.models import Sequential\n",
        "from tensorflow.keras.layers import Conv2D, Dense, Flatten, MaxPool2D"
      ],
      "metadata": {
        "id": "k-xE_cXU2giK"
      },
      "execution_count": 33,
      "outputs": []
    },
    {
      "cell_type": "code",
      "source": [
        "model= Sequential()\n",
        "model.add(Conv2D(16, (3,3), activation='relu', input_shape=(746,257,1)))\n",
        "model.add(MaxPool2D((2,2)))\n",
        "model.add(Conv2D(16, (3,3), activation='relu'))\n",
        "model.add(MaxPool2D((2,2)))\n",
        "model.add(Conv2D(32, (3,3), activation='relu'))\n",
        "model.add(Flatten())\n",
        "model.add(Dense(128, activation='relu'))\n",
        "model.add(Dense(1, activation='sigmoid'))\n"
      ],
      "metadata": {
        "id": "j__Rlp0p2gk-"
      },
      "execution_count": 51,
      "outputs": []
    },
    {
      "cell_type": "code",
      "source": [
        "model.compile('Adam', loss= 'BinaryCrossentropy', metrics=tf.keras.metrics.Precision())"
      ],
      "metadata": {
        "id": "1laEih8M2gnV"
      },
      "execution_count": 52,
      "outputs": []
    },
    {
      "cell_type": "code",
      "source": [
        "model.summary()"
      ],
      "metadata": {
        "colab": {
          "base_uri": "https://localhost:8080/"
        },
        "id": "AE9bbC292gp-",
        "outputId": "aa827365-2ccd-4ebb-ba10-e1584089e842"
      },
      "execution_count": 53,
      "outputs": [
        {
          "output_type": "stream",
          "name": "stdout",
          "text": [
            "Model: \"sequential_1\"\n",
            "_________________________________________________________________\n",
            " Layer (type)                Output Shape              Param #   \n",
            "=================================================================\n",
            " conv2d_2 (Conv2D)           (None, 744, 255, 16)      160       \n",
            "                                                                 \n",
            " max_pooling2d (MaxPooling2D  (None, 372, 127, 16)     0         \n",
            " )                                                               \n",
            "                                                                 \n",
            " conv2d_3 (Conv2D)           (None, 370, 125, 16)      2320      \n",
            "                                                                 \n",
            " max_pooling2d_1 (MaxPooling  (None, 185, 62, 16)      0         \n",
            " 2D)                                                             \n",
            "                                                                 \n",
            " conv2d_4 (Conv2D)           (None, 183, 60, 32)       4640      \n",
            "                                                                 \n",
            " flatten_1 (Flatten)         (None, 351360)            0         \n",
            "                                                                 \n",
            " dense_2 (Dense)             (None, 128)               44974208  \n",
            "                                                                 \n",
            " dense_3 (Dense)             (None, 1)                 129       \n",
            "                                                                 \n",
            "=================================================================\n",
            "Total params: 44,981,457\n",
            "Trainable params: 44,981,457\n",
            "Non-trainable params: 0\n",
            "_________________________________________________________________\n"
          ]
        }
      ]
    },
    {
      "cell_type": "code",
      "source": [
        "hist= model.fit(train, epochs=16, validation_data=test)"
      ],
      "metadata": {
        "colab": {
          "base_uri": "https://localhost:8080/"
        },
        "id": "VbAQU0e05V1w",
        "outputId": "4c8e1e5f-f626-47b6-b2a5-feaab1ded07c"
      },
      "execution_count": 54,
      "outputs": [
        {
          "output_type": "stream",
          "name": "stdout",
          "text": [
            "Epoch 1/16\n",
            "20/20 [==============================] - 36s 2s/step - loss: 0.4649 - precision_1: 0.8222 - val_loss: 0.2362 - val_precision_1: 0.8750\n",
            "Epoch 2/16\n",
            "20/20 [==============================] - 26s 1s/step - loss: 0.1113 - precision_1: 0.9863 - val_loss: 0.1824 - val_precision_1: 1.0000\n",
            "Epoch 3/16\n",
            "20/20 [==============================] - 27s 1s/step - loss: 0.1669 - precision_1: 0.9744 - val_loss: 0.1514 - val_precision_1: 0.8966\n",
            "Epoch 4/16\n",
            "20/20 [==============================] - 26s 1s/step - loss: 0.0476 - precision_1: 0.9620 - val_loss: 0.0051 - val_precision_1: 1.0000\n",
            "Epoch 5/16\n",
            "20/20 [==============================] - 26s 1s/step - loss: 0.1791 - precision_1: 0.9740 - val_loss: 0.6629 - val_precision_1: 0.7188\n",
            "Epoch 6/16\n",
            "20/20 [==============================] - 26s 1s/step - loss: 0.3420 - precision_1: 0.9296 - val_loss: 0.2646 - val_precision_1: 0.9231\n",
            "Epoch 7/16\n",
            "20/20 [==============================] - 26s 1s/step - loss: 0.1547 - precision_1: 0.9610 - val_loss: 0.0929 - val_precision_1: 1.0000\n",
            "Epoch 8/16\n",
            "20/20 [==============================] - 26s 1s/step - loss: 0.0752 - precision_1: 1.0000 - val_loss: 0.0570 - val_precision_1: 1.0000\n",
            "Epoch 9/16\n",
            "20/20 [==============================] - 26s 1s/step - loss: 0.1055 - precision_1: 0.9880 - val_loss: 0.1592 - val_precision_1: 0.9333\n",
            "Epoch 10/16\n",
            "20/20 [==============================] - 26s 1s/step - loss: 0.0730 - precision_1: 0.9740 - val_loss: 0.0838 - val_precision_1: 1.0000\n",
            "Epoch 11/16\n",
            "20/20 [==============================] - 26s 1s/step - loss: 0.0746 - precision_1: 0.9870 - val_loss: 0.0233 - val_precision_1: 1.0000\n",
            "Epoch 12/16\n",
            "20/20 [==============================] - 26s 1s/step - loss: 0.0443 - precision_1: 0.9878 - val_loss: 0.0480 - val_precision_1: 1.0000\n",
            "Epoch 13/16\n",
            "20/20 [==============================] - 26s 1s/step - loss: 0.0268 - precision_1: 1.0000 - val_loss: 0.0146 - val_precision_1: 1.0000\n",
            "Epoch 14/16\n",
            "20/20 [==============================] - 27s 1s/step - loss: 0.0081 - precision_1: 1.0000 - val_loss: 0.0021 - val_precision_1: 1.0000\n",
            "Epoch 15/16\n",
            "20/20 [==============================] - 26s 1s/step - loss: 0.0356 - precision_1: 0.9733 - val_loss: 0.0011 - val_precision_1: 1.0000\n",
            "Epoch 16/16\n",
            "20/20 [==============================] - 26s 1s/step - loss: 0.0468 - precision_1: 0.9762 - val_loss: 6.3810e-04 - val_precision_1: 1.0000\n"
          ]
        }
      ]
    },
    {
      "cell_type": "code",
      "source": [
        "plt.title('Loss')\n",
        "plt.plot(hist.history['loss'], 'r')\n",
        "plt.plot(hist.history['val_loss'], 'b')\n",
        "plt.show()"
      ],
      "metadata": {
        "colab": {
          "base_uri": "https://localhost:8080/",
          "height": 281
        },
        "id": "xWOp1zo92gss",
        "outputId": "9360baf8-3bb1-40ca-ba89-988f1cedd311"
      },
      "execution_count": 55,
      "outputs": [
        {
          "output_type": "display_data",
          "data": {
            "text/plain": [
              "<Figure size 432x288 with 1 Axes>"
            ],
            "image/png": "[encoded data removed]"
          },
          "metadata": {
            "needs_background": "light"
          }
        }
      ]
    },
    {
      "cell_type": "code",
      "source": [
        "plt.title('Precision')\n",
        "plt.plot(hist.history['precision_1'], 'r')\n",
        "plt.plot(hist.history['val_precision_1'], 'b')\n",
        "plt.show()"
      ],
      "metadata": {
        "colab": {
          "base_uri": "https://localhost:8080/",
          "height": 281
        },
        "id": "CsNT0zFu2gvU",
        "outputId": "5456ee70-b43c-4d70-9357-0c3521ff1d35"
      },
      "execution_count": 57,
      "outputs": [
        {
          "output_type": "display_data",
          "data": {
            "text/plain": [
              "<Figure size 432x288 with 1 Axes>"
            ],
            "image/png": "[encoded data removed]"
          },
          "metadata": {
            "needs_background": "light"
          }
        }
      ]
    },
    {
      "cell_type": "code",
      "source": [
        "X_test, y_test = test.as_numpy_iterator().next()"
      ],
      "metadata": {
        "id": "ikBT7mLu2gxg"
      },
      "execution_count": 58,
      "outputs": []
    },
    {
      "cell_type": "code",
      "source": [
        "X_test.shape"
      ],
      "metadata": {
        "colab": {
          "base_uri": "https://localhost:8080/"
        },
        "id": "VxXAX4M_2g0F",
        "outputId": "0568a2cf-9eec-4ddd-bb5e-0456a11ffe18"
      },
      "execution_count": 59,
      "outputs": [
        {
          "output_type": "execute_result",
          "data": {
            "text/plain": [
              "(8, 746, 257, 1)"
            ]
          },
          "metadata": {},
          "execution_count": 59
        }
      ]
    },
    {
      "cell_type": "code",
      "source": [
        "yhat = model.predict(X_test)"
      ],
      "metadata": {
        "id": "BvzAXz-P2g2T"
      },
      "execution_count": 60,
      "outputs": []
    },
    {
      "cell_type": "code",
      "source": [
        "yhatyhat = [1 if prediction > 0.5 else 0 for prediction in yhat]"
      ],
      "metadata": {
        "id": "51yMKEBA2g4o"
      },
      "execution_count": 61,
      "outputs": []
    },
    {
      "cell_type": "code",
      "source": [
        "yhatyhat"
      ],
      "metadata": {
        "colab": {
          "base_uri": "https://localhost:8080/"
        },
        "id": "q4MjFIeC2g7D",
        "outputId": "46b3a60a-d114-4546-ab32-3252e1ba7b79"
      },
      "execution_count": 62,
      "outputs": [
        {
          "output_type": "execute_result",
          "data": {
            "text/plain": [
              "[1, 1, 0, 0, 0, 1, 1, 1]"
            ]
          },
          "metadata": {},
          "execution_count": 62
        }
      ]
    },
    {
      "cell_type": "code",
      "source": [
        "y_test"
      ],
      "metadata": {
        "colab": {
          "base_uri": "https://localhost:8080/"
        },
        "id": "qc0sMT5u2g-L",
        "outputId": "bfdeff36-86d4-43c8-e4c6-def464be71d7"
      },
      "execution_count": 63,
      "outputs": [
        {
          "output_type": "execute_result",
          "data": {
            "text/plain": [
              "array([1., 1., 0., 0., 0., 1., 1., 1.], dtype=float32)"
            ]
          },
          "metadata": {},
          "execution_count": 63
        }
      ]
    }
  ]
}